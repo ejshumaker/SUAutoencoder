{
  "nbformat": 4,
  "nbformat_minor": 0,
  "metadata": {
    "colab": {
      "name": "HSU_autoencoder_cuprite.ipynb",
      "provenance": [],
      "collapsed_sections": [],
      "authorship_tag": "ABX9TyOet3iNLPoN/1oViFT3dgyy",
      "include_colab_link": true
    },
    "kernelspec": {
      "name": "python3",
      "display_name": "Python 3"
    }
  },
  "cells": [
    {
      "cell_type": "markdown",
      "metadata": {
        "id": "view-in-github",
        "colab_type": "text"
      },
      "source": [
        "<a href=\"https://colab.research.google.com/github/ejshumaker/SUAutoencoder/blob/master/HSU_autoencoder_cuprite.ipynb\" target=\"_parent\"><img src=\"https://colab.research.google.com/assets/colab-badge.svg\" alt=\"Open In Colab\"/></a>"
      ]
    },
    {
      "cell_type": "code",
      "metadata": {
        "id": "ey88yZjBNBnp",
        "colab_type": "code",
        "colab": {}
      },
      "source": [
        "import numpy as np\n",
        "import matplotlib.pyplot as plt\n",
        "import os\n",
        "import cv2\n",
        "\n",
        "import torch\n",
        "import torch.nn as nn\n",
        "import torch.nn.functional as F\n",
        "import torch.optim as optim\n",
        "from torch.utils.data import DataLoader, Dataset\n",
        "\n",
        "import torchvision\n",
        "from torchvision import datasets, models, transforms\n",
        "\n",
        "from torchsummary import summary\n",
        "from tqdm import tqdm\n",
        "\n",
        "from scipy import io\n",
        "\n",
        "# Detect if we have a GPU available\n",
        "device = torch.device(\"cuda:0\" if torch.cuda.is_available() else \"cpu\")"
      ],
      "execution_count": 0,
      "outputs": []
    },
    {
      "cell_type": "code",
      "metadata": {
        "id": "7HFbAfgJ7Dmx",
        "colab_type": "code",
        "outputId": "e181b487-4da0-4077-94c3-40105f9d696c",
        "colab": {
          "base_uri": "https://localhost:8080/",
          "height": 122
        }
      },
      "source": [
        "from google.colab import drive\n",
        "drive.mount('/content/gdrive')"
      ],
      "execution_count": 2,
      "outputs": [
        {
          "output_type": "stream",
          "text": [
            "Go to this URL in a browser: https://accounts.google.com/o/oauth2/auth?client_id=947318989803-6bn6qk8qdgf4n4g3pfee6491hc0brc4i.apps.googleusercontent.com&redirect_uri=urn%3aietf%3awg%3aoauth%3a2.0%3aoob&response_type=code&scope=email%20https%3a%2f%2fwww.googleapis.com%2fauth%2fdocs.test%20https%3a%2f%2fwww.googleapis.com%2fauth%2fdrive%20https%3a%2f%2fwww.googleapis.com%2fauth%2fdrive.photos.readonly%20https%3a%2f%2fwww.googleapis.com%2fauth%2fpeopleapi.readonly\n",
            "\n",
            "Enter your authorization code:\n",
            "··········\n",
            "Mounted at /content/gdrive\n"
          ],
          "name": "stdout"
        }
      ]
    },
    {
      "cell_type": "code",
      "metadata": {
        "id": "iOLCAfrTLDzU",
        "colab_type": "code",
        "colab": {}
      },
      "source": [
        "if os.path.exists('./data'):\n",
        "  ! rm -r ./data\n",
        "os.mkdir('./data')\n",
        "os.mkdir('./data/train')\n",
        "os.mkdir('./data/train/sub')\n",
        "os.mkdir('./data/test')\n",
        "os.mkdir('./data/test/sub')\n",
        "train_path = './data/train/sub'\n",
        "test_path = './data/test/sub'"
      ],
      "execution_count": 0,
      "outputs": []
    },
    {
      "cell_type": "code",
      "metadata": {
        "id": "lvvOF5NUfIwb",
        "colab_type": "code",
        "colab": {}
      },
      "source": [
        "data_dict = io.loadmat(\"/content/gdrive/My Drive/Research/SpectralUnmixing/CupriteS1_R188.mat\")\n",
        "gt_dict = io.loadmat(\"/content/gdrive/My Drive/Research/SpectralUnmixing/groundTruth_Cuprite_nEnd12.mat\")"
      ],
      "execution_count": 0,
      "outputs": []
    },
    {
      "cell_type": "code",
      "metadata": {
        "id": "C1UeNUfK2Ioc",
        "colab_type": "code",
        "colab": {
          "base_uri": "https://localhost:8080/",
          "height": 680
        },
        "outputId": "4677aef9-08b1-4355-b1b4-adcf15ef2069"
      },
      "source": [
        "print(gt_dict['M'][:,0])\n",
        "print(gt_dict['cood'][0])"
      ],
      "execution_count": 5,
      "outputs": [
        {
          "output_type": "stream",
          "text": [
            "[0.55742017 0.57629787 0.5937831  0.61208907 0.63083819 0.6470653\n",
            " 0.65849169 0.66716597 0.67841419 0.68965327 0.70284842 0.7166223\n",
            " 0.7326101  0.74552892 0.75942867 0.77239759 0.78207446 0.78652031\n",
            " 0.79471264 0.80235932 0.80622183 0.81082253 0.81456461 0.82021499\n",
            " 0.82162232 0.82758799 0.83242546 0.83691312 0.8398638  0.8316466\n",
            " 0.8363707  0.83964622 0.84298113 0.84717387 0.85239708 0.8575575\n",
            " 0.86070349 0.86301008 0.86549311 0.86944796 0.87170593 0.87284815\n",
            " 0.87603421 0.877416   0.8795674  0.88092771 0.88147779 0.88255227\n",
            " 0.88128306 0.88343003 0.88433875 0.8823254  0.88108355 0.87740239\n",
            " 0.88119636 0.88056295 0.88046093 0.8783341  0.8793033  0.87734814\n",
            " 0.87659611 0.87850059 0.87894281 0.88007618 0.878423   0.8783454\n",
            " 0.8786372  0.88070941 0.88356713 0.8843906  0.88468872 0.8858385\n",
            " 0.88725559 0.88684734 0.889313   0.88968963 0.8893848  0.88974322\n",
            " 0.89154557 0.8917604  0.89086798 0.89209216 0.89004245 0.8904734\n",
            " 0.8909154  0.89295167 0.89125552 0.89181591 0.89183155 0.89168692\n",
            " 0.88799006 0.88980602 0.8885196  0.88880659 0.88630244 0.88455812\n",
            " 0.88520191 0.88787798 0.88943747 0.8876909  0.88486587 0.88020208\n",
            " 0.87694925 0.87247217 0.87229307 0.86740864 0.85024909 0.83688629\n",
            " 0.81857931 0.79404945 0.77582167 0.74602356 0.75091633 0.76592613\n",
            " 0.76650853 0.76015093 0.74664851 0.74151536 0.76210555 0.78025199\n",
            " 0.79385524 0.8029698  0.80788123 0.81228398 0.81284148 0.81334105\n",
            " 0.81401433 0.81457161 0.81473287 0.81431265 0.81362476 0.81199674\n",
            " 0.81141137 0.80836586 0.80591805 0.80307991 0.80115472 0.80047529\n",
            " 0.79704941 0.79027029 0.77974676 0.76375335 0.74573445 0.73085029\n",
            " 0.72256336 0.72646495 0.7483708  0.76465584 0.77127945 0.77341231\n",
            " 0.77352686 0.77345514 0.76868494 0.76422328 0.75535868 0.74118698\n",
            " 0.71683737 0.72165947 0.69108364 0.65306103 0.61786409 0.59583178\n",
            " 0.58840444 0.59104434 0.59554516 0.60029638 0.60517389 0.6061109\n",
            " 0.60653135 0.60562646 0.60690546 0.60912512 0.60884924 0.60699343\n",
            " 0.60860915 0.60935848 0.60783342 0.60646124 0.60419679 0.60062088\n",
            " 0.59682702 0.58391752 0.56517255 0.53934056 0.50948809 0.48725386\n",
            " 0.47921617 0.48539493 0.50061673 0.5140853  0.52454109 0.54339492\n",
            " 0.56776769 0.59177185 0.60316703 0.60895592 0.60860322 0.60366188\n",
            " 0.59196985 0.57368269 0.54539297 0.52417553 0.51470278 0.51383989\n",
            " 0.51403198 0.50903254 0.49802969 0.4783158  0.45630452 0.43675011\n",
            " 0.42389942 0.40987808 0.39287262 0.37634756 0.36607167 0.35579552\n",
            " 0.34757898 0.34186611 0.3361476  0.33035775 0.32444882 0.318546\n",
            " 0.31432119 0.31704712]\n",
            "[array(['#1 Alunite'], dtype='<U10')]\n"
          ],
          "name": "stdout"
        }
      ]
    },
    {
      "cell_type": "markdown",
      "metadata": {
        "id": "Ece0GrhzogLc",
        "colab_type": "text"
      },
      "source": [
        "## Direct Dataloader"
      ]
    },
    {
      "cell_type": "code",
      "metadata": {
        "id": "JHQ4h9xKoi0o",
        "colab_type": "code",
        "colab": {}
      },
      "source": [
        "Y = data_dict['Y']\n",
        "dataset = []\n",
        "for i in range(Y.shape[0]):\n",
        "  d = Y[:,i]\n",
        "  d = d / np.amax(d)\n",
        "  t = torch.Tensor(d)\n",
        "  dataset.append(t)\n",
        "dataloader = DataLoader(dataset)"
      ],
      "execution_count": 0,
      "outputs": []
    },
    {
      "cell_type": "code",
      "metadata": {
        "id": "VLb-1waroxdX",
        "colab_type": "code",
        "outputId": "fabb6a55-a3e2-4c98-9159-fc7ce031c737",
        "colab": {
          "base_uri": "https://localhost:8080/",
          "height": 252
        }
      },
      "source": [
        "example = dataloader.__iter__().__next__()[0]\n",
        "plt.plot(example)\n",
        "plt.xticks([])\n",
        "plt.yticks([])\n",
        "plt.show()"
      ],
      "execution_count": 7,
      "outputs": [
        {
          "output_type": "display_data",
          "data": {
            "image/png": "[encoded data removed]",
            "text/plain": [
              "<Figure size 432x288 with 1 Axes>"
            ]
          },
          "metadata": {
            "tags": []
          }
        }
      ]
    },
    {
      "cell_type": "code",
      "metadata": {
        "id": "pKZZJAVsJIVb",
        "colab_type": "code",
        "outputId": "cefb99fe-c21e-49fd-a241-aa7cc42fc636",
        "colab": {
          "base_uri": "https://localhost:8080/",
          "height": 367
        }
      },
      "source": [
        "for i, x in enumerate(dataloader):\n",
        "  if i < 2:\n",
        "    print(x.shape)\n",
        "    print(x[0].shape)\n",
        "    print(';;;;;;;')\n",
        "    plt.plot(x[0])"
      ],
      "execution_count": 0,
      "outputs": [
        {
          "output_type": "stream",
          "text": [
            "torch.Size([1, 188])\n",
            "torch.Size([188])\n",
            ";;;;;;;\n",
            "torch.Size([1, 188])\n",
            "torch.Size([188])\n",
            ";;;;;;;\n"
          ],
          "name": "stdout"
        },
        {
          "output_type": "display_data",
          "data": {
            "image/png": "[encoded data removed]",
            "text/plain": [
              "<Figure size 432x288 with 1 Axes>"
            ]
          },
          "metadata": {
            "tags": [],
            "needs_background": "light"
          }
        }
      ]
    },
    {
      "cell_type": "markdown",
      "metadata": {
        "id": "A6DzlYnnHc-I",
        "colab_type": "text"
      },
      "source": [
        "## Plot and save data"
      ]
    },
    {
      "cell_type": "code",
      "metadata": {
        "id": "DQfKmvOzLmeo",
        "colab_type": "code",
        "outputId": "641b9878-0ee2-4363-ed67-b736eda283e8",
        "colab": {
          "base_uri": "https://localhost:8080/",
          "height": 34
        }
      },
      "source": [
        "img_data = True\n",
        "Y = data_dict['Y']\n",
        "if img_data:\n",
        "  for i in range(Y.shape[0]):\n",
        "    y = Y[:,i]\n",
        "    y = y.reshape((188,1))\n",
        "    plt.plot(y)\n",
        "    plt.xticks([])\n",
        "    plt.yticks([])\n",
        "    plt.box(False)\n",
        "    img_path = train_path + '/%d.jpg' % (i + 1)\n",
        "    plt.savefig(img_path, bbox_inches='tight', pad_inches=0.0)\n",
        "    plt.clf()"
      ],
      "execution_count": 0,
      "outputs": [
        {
          "output_type": "display_data",
          "data": {
            "text/plain": [
              "<Figure size 432x288 with 0 Axes>"
            ]
          },
          "metadata": {
            "tags": []
          }
        }
      ]
    },
    {
      "cell_type": "markdown",
      "metadata": {
        "id": "ojCM6GS81gb5",
        "colab_type": "text"
      },
      "source": [
        "### Crop Images"
      ]
    },
    {
      "cell_type": "code",
      "metadata": {
        "id": "EWlwhgIC1fkG",
        "colab_type": "code",
        "colab": {}
      },
      "source": [
        "# Only run once\n",
        "path = './data/train/sub/'\n",
        "for filename in os.listdir(path):\n",
        "  img_path = os.path.join(path, filename)\n",
        "  img = cv2.imread(img_path)\n",
        "  row, col, channel = img.shape\n",
        "  img = img[5:,15:(col-14),:]\n",
        "  # print(img.shape)\n",
        "  cv2.imwrite(img_path, img)"
      ],
      "execution_count": 0,
      "outputs": []
    },
    {
      "cell_type": "markdown",
      "metadata": {
        "id": "vxX-ZhVtP8Io",
        "colab_type": "text"
      },
      "source": [
        "## Dataloader"
      ]
    },
    {
      "cell_type": "code",
      "metadata": {
        "id": "qoOlcRDIQoWS",
        "colab_type": "code",
        "colab": {}
      },
      "source": [
        "def load_data(path, subfolder, transform, batch_size=1, shuffle=True):\n",
        "    \"\"\"\n",
        "    Data loader.\n",
        "\n",
        "    Inputs:\n",
        "    - path: path of the data.\n",
        "    - subfolder: subfolder of the data.\n",
        "    - transform: data transformation.\n",
        "    - batch_size: the size of the batch\n",
        "    - shuffle: if true, shuffle the data\n",
        "\n",
        "    Outputs:\n",
        "    - torch Dataloader\n",
        "    \"\"\"\n",
        "    # direc = path + '/' + subfolder\n",
        "    direc = path + '/'\n",
        "    dset = datasets.ImageFolder(direc, transform=transform)\n",
        "    dataloader = DataLoader(dset,batch_size=batch_size,shuffle=shuffle)\n",
        "    return dataloader"
      ],
      "execution_count": 0,
      "outputs": []
    },
    {
      "cell_type": "code",
      "metadata": {
        "id": "m9dg-_4JP-aO",
        "colab_type": "code",
        "outputId": "b3754224-25a5-47f8-863d-dc725a6f03df",
        "colab": {
          "base_uri": "https://localhost:8080/",
          "height": 252
        }
      },
      "source": [
        "# data_loader\n",
        "transform = transforms.Compose([\n",
        "        transforms.ToTensor(),\n",
        "])\n",
        "train_loader = load_data('./data', 'train', transform, batch_size =1, shuffle=True)\n",
        "\n",
        "# plot sample image\n",
        "example = train_loader.__iter__().__next__()[0][0].numpy().transpose((1, 2, 0))\n",
        "plt.imshow(example)\n",
        "plt.xticks([])\n",
        "plt.yticks([])\n",
        "plt.show()"
      ],
      "execution_count": 0,
      "outputs": [
        {
          "output_type": "display_data",
          "data": {
            "image/png": "[encoded data removed]",
            "text/plain": [
              "<Figure size 432x288 with 1 Axes>"
            ]
          },
          "metadata": {
            "tags": []
          }
        }
      ]
    },
    {
      "cell_type": "markdown",
      "metadata": {
        "id": "vDn1WxR9bWOh",
        "colab_type": "text"
      },
      "source": [
        "## Autoencoder"
      ]
    },
    {
      "cell_type": "code",
      "metadata": {
        "id": "si2ik6tZS7pa",
        "colab_type": "code",
        "colab": {}
      },
      "source": [
        "class Encoder(nn.Module):\n",
        "    def __init__(self, in_channels=1):\n",
        "        super(Encoder, self).__init__()\n",
        "\n",
        "        # TODO: change architecture\n",
        "        B = 188 # spectral bands\n",
        "        R = 12  # endmembers\n",
        "        self.encoder = nn.Sequential(\n",
        "            # nn.Linear(in_channels, B),\n",
        "            nn.Conv1d(in_channels,B,kernel_size=1,stride=2,padding=0),\n",
        "            nn.ReLU(),\n",
        "            nn.Conv1d(B,9*R,kernel_size=1,stride=2,padding=0),\n",
        "            nn.ReLU(),\n",
        "            nn.Conv1d(9*R,6*R,kernel_size=1,stride=2,padding=0),\n",
        "            nn.ReLU(),\n",
        "            nn.Conv1d(6*R,3*R,kernel_size=1,stride=2,padding=0),\n",
        "            nn.ReLU(),\n",
        "            nn.Conv1d(3*R,R,kernel_size=1,stride=2,padding=0),\n",
        "            nn.ReLU(),\n",
        "            nn.BatchNorm1d(R),\n",
        "            nn.Softmax(dim=1)\n",
        "            # soft threshold?\n",
        "        )\n",
        "\n",
        "\n",
        "    def forward(self, x):\n",
        "        '''\n",
        "        Given a vector x, return the encoded latent representation h.\n",
        "\n",
        "        Args:\n",
        "            x: torch.tensor\n",
        "\n",
        "        Return: \n",
        "            h: torch.tensor\n",
        "        '''\n",
        "        x = x.reshape((188, 1, -1))\n",
        "        h = self.encoder(x)\n",
        "        print(\"h:\",h.shape)\n",
        "\n",
        "        return h"
      ],
      "execution_count": 0,
      "outputs": []
    },
    {
      "cell_type": "code",
      "metadata": {
        "id": "yR2Mhp1nwIws",
        "colab_type": "code",
        "outputId": "e2dc89a9-0d1d-4b32-f6d2-4e89c122d751",
        "colab": {
          "base_uri": "https://localhost:8080/",
          "height": 459
        }
      },
      "source": [
        "encoder = Encoder().to(device)\n",
        "summary(encoder, [(188,1,1)])"
      ],
      "execution_count": 108,
      "outputs": [
        {
          "output_type": "stream",
          "text": [
            "h: torch.Size([188, 12, 1])\n",
            "----------------------------------------------------------------\n",
            "        Layer (type)               Output Shape         Param #\n",
            "================================================================\n",
            "            Conv1d-1               [-1, 188, 1]             376\n",
            "              ReLU-2               [-1, 188, 1]               0\n",
            "            Conv1d-3               [-1, 108, 1]          20,412\n",
            "              ReLU-4               [-1, 108, 1]               0\n",
            "            Conv1d-5                [-1, 72, 1]           7,848\n",
            "              ReLU-6                [-1, 72, 1]               0\n",
            "            Conv1d-7                [-1, 36, 1]           2,628\n",
            "              ReLU-8                [-1, 36, 1]               0\n",
            "            Conv1d-9                [-1, 12, 1]             444\n",
            "             ReLU-10                [-1, 12, 1]               0\n",
            "      BatchNorm1d-11                [-1, 12, 1]              24\n",
            "          Softmax-12                [-1, 12, 1]               0\n",
            "================================================================\n",
            "Total params: 31,732\n",
            "Trainable params: 31,732\n",
            "Non-trainable params: 0\n",
            "----------------------------------------------------------------\n",
            "Input size (MB): 0.00\n",
            "Forward/backward pass size (MB): 0.01\n",
            "Params size (MB): 0.12\n",
            "Estimated Total Size (MB): 0.13\n",
            "----------------------------------------------------------------\n"
          ],
          "name": "stdout"
        }
      ]
    },
    {
      "cell_type": "code",
      "metadata": {
        "id": "s1cgpzZTwOtu",
        "colab_type": "code",
        "colab": {}
      },
      "source": [
        "class Decoder(nn.Module):\n",
        "    def __init__(self, out_channels=3, feat_dim=64):\n",
        "        super(Decoder, self).__init__()\n",
        "\n",
        "        B = 188 # spectral bands\n",
        "        R = 12  # endmembers\n",
        "\n",
        "        self.decoder = nn.Sequential(\n",
        "            # nn.Linear(R, B, bias=False)\n",
        "            # nn.ConvTranspose1d(R,B,kernel_size=1,stride=1,padding=1),\n",
        "          nn.ConvTranspose1d(B,R,kernel_size=1,stride=1,padding=0),\n",
        "          nn.ReLU(),\n",
        "        )\n",
        "\n",
        "    def forward(self, h):\n",
        "        '''\n",
        "        Given encoded vector h, return decoded vector x_hat\n",
        "\n",
        "        Args:\n",
        "            h: torch.tensor\n",
        "\n",
        "        Return: \n",
        "            x_hat: torch.tensor\n",
        "        '''\n",
        "        h = h.reshape((12, 188, -1))\n",
        "        print('input:', h.shape)\n",
        "        x_hat = self.decoder(h)\n",
        "        print('x_hat:', x_hat.shape)\n",
        "        return x_hat"
      ],
      "execution_count": 0,
      "outputs": []
    },
    {
      "cell_type": "code",
      "metadata": {
        "id": "kY66jz5LwO63",
        "colab_type": "code",
        "colab": {
          "base_uri": "https://localhost:8080/",
          "height": 306
        },
        "outputId": "b9847b90-ceeb-4d61-ce2d-e0f33232615d"
      },
      "source": [
        "decoder = Decoder().to(device)\n",
        "summary(decoder, [(188,12)])"
      ],
      "execution_count": 119,
      "outputs": [
        {
          "output_type": "stream",
          "text": [
            "input: torch.Size([12, 188, 2])\n",
            "x_hat: torch.Size([12, 12, 2])\n",
            "----------------------------------------------------------------\n",
            "        Layer (type)               Output Shape         Param #\n",
            "================================================================\n",
            "   ConvTranspose1d-1                [-1, 12, 2]           2,268\n",
            "              ReLU-2                [-1, 12, 2]               0\n",
            "================================================================\n",
            "Total params: 2,268\n",
            "Trainable params: 2,268\n",
            "Non-trainable params: 0\n",
            "----------------------------------------------------------------\n",
            "Input size (MB): 0.01\n",
            "Forward/backward pass size (MB): 0.00\n",
            "Params size (MB): 0.01\n",
            "Estimated Total Size (MB): 0.02\n",
            "----------------------------------------------------------------\n"
          ],
          "name": "stdout"
        }
      ]
    },
    {
      "cell_type": "code",
      "metadata": {
        "id": "6rMiLbL3wkA3",
        "colab_type": "code",
        "colab": {}
      },
      "source": [
        "class Autoencoder(nn.Module):\n",
        "    def __init__(self, in_channels=3, feat_dim=64):\n",
        "        super(Autoencoder, self).__init__()\n",
        "\n",
        "        self.encoder = Encoder(in_channels=1)\n",
        "        self.decoder = Decoder()\n",
        "\n",
        "    def forward(self, x):\n",
        "        '''\n",
        "        Compress and reconstruct the input image with encoder and decoder.\n",
        "\n",
        "        Args:\n",
        "            x: torch.tensor\n",
        "\n",
        "        Return: \n",
        "            x_: torch.tensor\n",
        "        '''\n",
        "\n",
        "        h = self.encoder(x)\n",
        "        x_ = self.decoder(h)\n",
        "\n",
        "        return x_"
      ],
      "execution_count": 0,
      "outputs": []
    },
    {
      "cell_type": "code",
      "metadata": {
        "id": "gDcMwyjlwl0J",
        "colab_type": "code",
        "colab": {}
      },
      "source": [
        "ae = Autoencoder().to(device)\n",
        "# summary(ae, (3, 64, 64))"
      ],
      "execution_count": 0,
      "outputs": []
    },
    {
      "cell_type": "code",
      "metadata": {
        "id": "WD6M1CahwmXX",
        "colab_type": "code",
        "colab": {}
      },
      "source": [
        "def visualize_recon(model, dataloader):\n",
        "    '''\n",
        "    Helper function for visualizing reconstruction performance.\n",
        "\n",
        "    Randomly sample 8 images and plot the original/reconstructed images. \n",
        "    '''\n",
        "    model.eval()\n",
        "    img = next(iter(dataloader))[0][:8].to(device)\n",
        "    out = model(img)\n",
        "\n",
        "    fig, ax = plt.subplots(1, 1, figsize=(15,10))\n",
        "    inp = torchvision.utils.make_grid(torch.cat((img, out), dim=2), nrow=8)\n",
        "    imshow(inp.detach().cpu(), ax=ax)\n",
        "    model.train()\n",
        "    plt.show()"
      ],
      "execution_count": 0,
      "outputs": []
    },
    {
      "cell_type": "code",
      "metadata": {
        "id": "_55II26swpsw",
        "colab_type": "code",
        "colab": {}
      },
      "source": [
        "def train_ae(model, dataloader, epochs=200):\n",
        "    '''\n",
        "    Train autoencoder model.\n",
        "\n",
        "    Args:\n",
        "        model: torch.nn.module.\n",
        "        dataloader: DataLoader. The unlabeled partition of the STL dataset.\n",
        "    '''\n",
        "\n",
        "    optimizer = optim.Adam(model.parameters(), lr=1e-3)\n",
        "    criterion = nn.MSELoss()\n",
        "    loss_traj = []\n",
        "\n",
        "    for epoch in tqdm(range(epochs)):\n",
        "\n",
        "        loss_epoch = 0\n",
        "        for x in dataloader:\n",
        "            # print(x.shape)\n",
        "\n",
        "            inp = x[0].to(device)\n",
        "            # inp = inp.view(1, -1)\n",
        "            out = model(inp)\n",
        "            loss = criterion(out, inp)\n",
        "            \n",
        "            optimizer.zero_grad()\n",
        "            loss.backward()\n",
        "            optimizer.step()\n",
        "\n",
        "            loss_epoch += loss.detach()\n",
        "\n",
        "        loss_traj.append(loss_epoch)\n",
        "        \n",
        "        if epoch % 10 == 0:\n",
        "            print('Epoch {}, loss {:.3f}'.format(epoch, loss_epoch))\n",
        "            visualize_recon(model, dataloader)\n",
        "\n",
        "    return model, loss_traj"
      ],
      "execution_count": 0,
      "outputs": []
    },
    {
      "cell_type": "code",
      "metadata": {
        "id": "jOzcpxr-wrhs",
        "colab_type": "code",
        "outputId": "9f989135-6ff0-42ca-f1f2-a53b268aea4b",
        "colab": {
          "base_uri": "https://localhost:8080/",
          "height": 1000
        }
      },
      "source": [
        "# Train the autoencoder for 100 epochs\n",
        "ae = Autoencoder().to(device)\n",
        "ae, ae_loss_traj = train_ae(ae, dataloader, epochs=100)"
      ],
      "execution_count": 120,
      "outputs": [
        {
          "output_type": "stream",
          "text": [
            "\r  0%|          | 0/100 [00:00<?, ?it/s]/usr/local/lib/python3.6/dist-packages/torch/nn/modules/loss.py:432: UserWarning: Using a target size (torch.Size([188])) that is different to the input size (torch.Size([12, 12, 1])). This will likely lead to incorrect results due to broadcasting. Please ensure they have the same size.\n",
            "  return F.mse_loss(input, target, reduction=self.reduction)\n"
          ],
          "name": "stderr"
        },
        {
          "output_type": "stream",
          "text": [
            "h: torch.Size([188, 12, 1])\n",
            "input: torch.Size([12, 188, 1])\n",
            "x_hat: torch.Size([12, 12, 1])\n",
            "h: torch.Size([188, 12, 1])\n",
            "input: torch.Size([12, 188, 1])\n",
            "x_hat: torch.Size([12, 12, 1])\n",
            "h: torch.Size([188, 12, 1])\n",
            "input: torch.Size([12, 188, 1])\n",
            "x_hat: torch.Size([12, 12, 1])\n",
            "h: torch.Size([188, 12, 1])\n",
            "input: torch.Size([12, 188, 1])\n",
            "x_hat: torch.Size([12, 12, 1])\n",
            "h: torch.Size([188, 12, 1])\n",
            "input: torch.Size([12, 188, 1])\n",
            "x_hat: torch.Size([12, 12, 1])\n",
            "h: torch.Size([188, 12, 1])\n",
            "input: torch.Size([12, 188, 1])\n",
            "x_hat: torch.Size([12, 12, 1])\n",
            "h: torch.Size([188, 12, 1])\n",
            "input: torch.Size([12, 188, 1])\n",
            "x_hat: torch.Size([12, 12, 1])\n",
            "h: torch.Size([188, 12, 1])\n",
            "input: torch.Size([12, 188, 1])\n",
            "x_hat: torch.Size([12, 12, 1])\n",
            "h: torch.Size([188, 12, 1])\n",
            "input: torch.Size([12, 188, 1])\n",
            "x_hat: torch.Size([12, 12, 1])\n",
            "h: torch.Size([188, 12, 1])\n",
            "input: torch.Size([12, 188, 1])\n",
            "x_hat: torch.Size([12, 12, 1])\n",
            "h: torch.Size([188, 12, 1])\n",
            "input: torch.Size([12, 188, 1])\n",
            "x_hat: torch.Size([12, 12, 1])\n",
            "h: torch.Size([188, 12, 1])\n",
            "input: torch.Size([12, 188, 1])\n",
            "x_hat: torch.Size([12, 12, 1])\n",
            "h: torch.Size([188, 12, 1])\n",
            "input: torch.Size([12, 188, 1])\n",
            "x_hat: torch.Size([12, 12, 1])\n",
            "h: torch.Size([188, 12, 1])\n",
            "input: torch.Size([12, 188, 1])\n",
            "x_hat: torch.Size([12, 12, 1])\n",
            "h: torch.Size([188, 12, 1])\n",
            "input: torch.Size([12, 188, 1])\n",
            "x_hat: torch.Size([12, 12, 1])\n",
            "h: torch.Size([188, 12, 1])\n",
            "input: torch.Size([12, 188, 1])\n",
            "x_hat: torch.Size([12, 12, 1])\n",
            "h: torch.Size([188, 12, 1])\n",
            "input: torch.Size([12, 188, 1])\n",
            "x_hat: torch.Size([12, 12, 1])\n",
            "h: torch.Size([188, 12, 1])\n",
            "input: torch.Size([12, 188, 1])\n",
            "x_hat: torch.Size([12, 12, 1])\n",
            "h: torch.Size([188, 12, 1])\n",
            "input: torch.Size([12, 188, 1])\n",
            "x_hat: torch.Size([12, 12, 1])\n",
            "h: torch.Size([188, 12, 1])\n",
            "input: torch.Size([12, 188, 1])\n",
            "x_hat: torch.Size([12, 12, 1])\n",
            "h: torch.Size([188, 12, 1])\n",
            "input: torch.Size([12, 188, 1])\n",
            "x_hat: torch.Size([12, 12, 1])\n",
            "h: torch.Size([188, 12, 1])\n",
            "input: torch.Size([12, 188, 1])\n",
            "x_hat: torch.Size([12, 12, 1])\n",
            "h: torch.Size([188, 12, 1])\n",
            "input: torch.Size([12, 188, 1])\n",
            "x_hat: torch.Size([12, 12, 1])\n",
            "h: torch.Size([188, 12, 1])\n",
            "input: torch.Size([12, 188, 1])\n",
            "x_hat: torch.Size([12, 12, 1])\n",
            "h: torch.Size([188, 12, 1])\n",
            "input: torch.Size([12, 188, 1])\n",
            "x_hat: torch.Size([12, 12, 1])\n",
            "h: torch.Size([188, 12, 1])\n",
            "input: torch.Size([12, 188, 1])\n",
            "x_hat: torch.Size([12, 12, 1])\n",
            "h: torch.Size([188, 12, 1])\n",
            "input: torch.Size([12, 188, 1])\n",
            "x_hat: torch.Size([12, 12, 1])\n",
            "h: torch.Size([188, 12, 1])\n",
            "input: torch.Size([12, 188, 1])\n",
            "x_hat: torch.Size([12, 12, 1])\n",
            "h: torch.Size([188, 12, 1])\n",
            "input: torch.Size([12, 188, 1])\n",
            "x_hat: torch.Size([12, 12, 1])\n",
            "h: torch.Size([188, 12, 1])\n",
            "input: torch.Size([12, 188, 1])\n",
            "x_hat: torch.Size([12, 12, 1])\n",
            "h: torch.Size([188, 12, 1])\n",
            "input: torch.Size([12, 188, 1])\n",
            "x_hat: torch.Size([12, 12, 1])\n",
            "h: torch.Size([188, 12, 1])\n",
            "input: torch.Size([12, 188, 1])\n",
            "x_hat: torch.Size([12, 12, 1])\n",
            "h: torch.Size([188, 12, 1])\n",
            "input: torch.Size([12, 188, 1])\n",
            "x_hat: torch.Size([12, 12, 1])\n",
            "h: torch.Size([188, 12, 1])\n",
            "input: torch.Size([12, 188, 1])\n",
            "x_hat: torch.Size([12, 12, 1])\n",
            "h: torch.Size([188, 12, 1])\n",
            "input: torch.Size([12, 188, 1])\n",
            "x_hat: torch.Size([12, 12, 1])\n",
            "h: torch.Size([188, 12, 1])\n",
            "input: torch.Size([12, 188, 1])\n",
            "x_hat: torch.Size([12, 12, 1])\n",
            "h: torch.Size([188, 12, 1])\n",
            "input: torch.Size([12, 188, 1])\n",
            "x_hat: torch.Size([12, 12, 1])\n",
            "h: torch.Size([188, 12, 1])\n",
            "input: torch.Size([12, 188, 1])\n",
            "x_hat: torch.Size([12, 12, 1])\n",
            "h: torch.Size([188, 12, 1])\n",
            "input: torch.Size([12, 188, 1])\n",
            "x_hat: torch.Size([12, 12, 1])\n",
            "h: torch.Size([188, 12, 1])\n",
            "input: torch.Size([12, 188, 1])\n",
            "x_hat: torch.Size([12, 12, 1])\n",
            "h: torch.Size([188, 12, 1])\n",
            "input: torch.Size([12, 188, 1])\n",
            "x_hat: torch.Size([12, 12, 1])\n",
            "h: torch.Size([188, 12, 1])\n",
            "input: torch.Size([12, 188, 1])\n",
            "x_hat: torch.Size([12, 12, 1])\n",
            "h: torch.Size([188, 12, 1])\n",
            "input: torch.Size([12, 188, 1])\n",
            "x_hat: torch.Size([12, 12, 1])\n",
            "h: torch.Size([188, 12, 1])\n",
            "input: torch.Size([12, 188, 1])\n",
            "x_hat: torch.Size([12, 12, 1])\n",
            "h: torch.Size([188, 12, 1])\n",
            "input: torch.Size([12, 188, 1])\n",
            "x_hat: torch.Size([12, 12, 1])\n",
            "h: torch.Size([188, 12, 1])\n",
            "input: torch.Size([12, 188, 1])\n",
            "x_hat: torch.Size([12, 12, 1])\n",
            "h: torch.Size([188, 12, 1])\n",
            "input: torch.Size([12, 188, 1])\n",
            "x_hat: torch.Size([12, 12, 1])\n",
            "h: torch.Size([188, 12, 1])\n",
            "input: torch.Size([12, 188, 1])\n",
            "x_hat: torch.Size([12, 12, 1])\n",
            "h: torch.Size([188, 12, 1])\n",
            "input: torch.Size([12, 188, 1])\n",
            "x_hat: torch.Size([12, 12, 1])\n",
            "h: torch.Size([188, 12, 1])\n",
            "input: torch.Size([12, 188, 1])\n",
            "x_hat: torch.Size([12, 12, 1])\n",
            "h: torch.Size([188, 12, 1])\n",
            "input: torch.Size([12, 188, 1])\n",
            "x_hat: torch.Size([12, 12, 1])\n",
            "h: torch.Size([188, 12, 1])\n",
            "input: torch.Size([12, 188, 1])\n",
            "x_hat: torch.Size([12, 12, 1])\n",
            "h: torch.Size([188, 12, 1])\n",
            "input: torch.Size([12, 188, 1])\n",
            "x_hat: torch.Size([12, 12, 1])\n",
            "h: torch.Size([188, 12, 1])\n",
            "input: torch.Size([12, 188, 1])\n",
            "x_hat: torch.Size([12, 12, 1])\n",
            "h: torch.Size([188, 12, 1])\n",
            "input: torch.Size([12, 188, 1])\n",
            "x_hat: torch.Size([12, 12, 1])\n",
            "h: torch.Size([188, 12, 1])\n",
            "input: torch.Size([12, 188, 1])\n",
            "x_hat: torch.Size([12, 12, 1])\n",
            "h: torch.Size([188, 12, 1])\n",
            "input: torch.Size([12, 188, 1])\n",
            "x_hat: torch.Size([12, 12, 1])\n",
            "h: torch.Size([188, 12, 1])\n",
            "input: torch.Size([12, 188, 1])\n",
            "x_hat: torch.Size([12, 12, 1])\n",
            "h: torch.Size([188, 12, 1])\n",
            "input: torch.Size([12, 188, 1])\n",
            "x_hat: torch.Size([12, 12, 1])\n",
            "h: torch.Size([188, 12, 1])\n",
            "input: torch.Size([12, 188, 1])\n",
            "x_hat: torch.Size([12, 12, 1])\n",
            "h: torch.Size([188, 12, 1])\n",
            "input: torch.Size([12, 188, 1])\n",
            "x_hat: torch.Size([12, 12, 1])\n",
            "h: torch.Size([188, 12, 1])\n",
            "input: torch.Size([12, 188, 1])\n",
            "x_hat: torch.Size([12, 12, 1])\n",
            "h: torch.Size([188, 12, 1])\n",
            "input: torch.Size([12, 188, 1])\n",
            "x_hat: torch.Size([12, 12, 1])\n",
            "h: torch.Size([188, 12, 1])\n",
            "input: torch.Size([12, 188, 1])\n",
            "x_hat: torch.Size([12, 12, 1])\n",
            "h: torch.Size([188, 12, 1])\n",
            "input: torch.Size([12, 188, 1])\n",
            "x_hat: torch.Size([12, 12, 1])\n",
            "h: torch.Size([188, 12, 1])\n",
            "input: torch.Size([12, 188, 1])\n",
            "x_hat: torch.Size([12, 12, 1])\n",
            "h: torch.Size([188, 12, 1])\n",
            "input: torch.Size([12, 188, 1])\n",
            "x_hat: torch.Size([12, 12, 1])\n",
            "h: torch.Size([188, 12, 1])\n",
            "input: torch.Size([12, 188, 1])\n",
            "x_hat: torch.Size([12, 12, 1])\n",
            "h: torch.Size([188, 12, 1])\n",
            "input: torch.Size([12, 188, 1])\n",
            "x_hat: torch.Size([12, 12, 1])\n",
            "h: torch.Size([188, 12, 1])\n",
            "input: torch.Size([12, 188, 1])\n",
            "x_hat: torch.Size([12, 12, 1])\n",
            "h: torch.Size([188, 12, 1])\n",
            "input: torch.Size([12, 188, 1])\n",
            "x_hat: torch.Size([12, 12, 1])\n",
            "h: torch.Size([188, 12, 1])\n",
            "input: torch.Size([12, 188, 1])\n",
            "x_hat: torch.Size([12, 12, 1])\n",
            "h: torch.Size([188, 12, 1])\n",
            "input: torch.Size([12, 188, 1])\n",
            "x_hat: torch.Size([12, 12, 1])\n",
            "h: torch.Size([188, 12, 1])\n",
            "input: torch.Size([12, 188, 1])\n",
            "x_hat: torch.Size([12, 12, 1])\n",
            "h: torch.Size([188, 12, 1])\n",
            "input: torch.Size([12, 188, 1])\n",
            "x_hat: torch.Size([12, 12, 1])\n",
            "h: torch.Size([188, 12, 1])\n",
            "input: torch.Size([12, 188, 1])\n",
            "x_hat: torch.Size([12, 12, 1])\n",
            "h: torch.Size([188, 12, 1])\n",
            "input: torch.Size([12, 188, 1])\n",
            "x_hat: torch.Size([12, 12, 1])\n",
            "h: torch.Size([188, 12, 1])\n",
            "input: torch.Size([12, 188, 1])\n",
            "x_hat: torch.Size([12, 12, 1])\n",
            "h: torch.Size([188, 12, 1])\n",
            "input: torch.Size([12, 188, 1])\n",
            "x_hat: torch.Size([12, 12, 1])\n",
            "h: torch.Size([188, 12, 1])\n",
            "input: torch.Size([12, 188, 1])\n",
            "x_hat: torch.Size([12, 12, 1])\n",
            "h: torch.Size([188, 12, 1])\n",
            "input: torch.Size([12, 188, 1])\n",
            "x_hat: torch.Size([12, 12, 1])\n",
            "h: torch.Size([188, 12, 1])\n",
            "input: torch.Size([12, 188, 1])\n",
            "x_hat: torch.Size([12, 12, 1])\n",
            "h: torch.Size([188, 12, 1])\n",
            "input: torch.Size([12, 188, 1])\n",
            "x_hat: torch.Size([12, 12, 1])\n",
            "h: torch.Size([188, 12, 1])\n",
            "input: torch.Size([12, 188, 1])\n",
            "x_hat: torch.Size([12, 12, 1])\n",
            "h: torch.Size([188, 12, 1])\n",
            "input: torch.Size([12, 188, 1])\n",
            "x_hat: torch.Size([12, 12, 1])\n",
            "h: torch.Size([188, 12, 1])\n",
            "input: torch.Size([12, 188, 1])\n",
            "x_hat: torch.Size([12, 12, 1])\n",
            "h: torch.Size([188, 12, 1])\n",
            "input: torch.Size([12, 188, 1])\n",
            "x_hat: torch.Size([12, 12, 1])\n",
            "h: torch.Size([188, 12, 1])\n",
            "input: torch.Size([12, 188, 1])\n",
            "x_hat: torch.Size([12, 12, 1])\n",
            "h: torch.Size([188, 12, 1])\n",
            "input: torch.Size([12, 188, 1])\n",
            "x_hat: torch.Size([12, 12, 1])\n",
            "h: torch.Size([188, 12, 1])\n",
            "input: torch.Size([12, 188, 1])\n",
            "x_hat: torch.Size([12, 12, 1])\n",
            "h: torch.Size([188, 12, 1])\n",
            "input: torch.Size([12, 188, 1])\n",
            "x_hat: torch.Size([12, 12, 1])\n",
            "h: torch.Size([188, 12, 1])\n",
            "input: torch.Size([12, 188, 1])\n",
            "x_hat: torch.Size([12, 12, 1])\n",
            "h: torch.Size([188, 12, 1])\n",
            "input: torch.Size([12, 188, 1])\n",
            "x_hat: torch.Size([12, 12, 1])\n",
            "h: torch.Size([188, 12, 1])\n",
            "input: torch.Size([12, 188, 1])\n",
            "x_hat: torch.Size([12, 12, 1])\n",
            "h: torch.Size([188, 12, 1])\n",
            "input: torch.Size([12, 188, 1])\n",
            "x_hat: torch.Size([12, 12, 1])\n",
            "h: torch.Size([188, 12, 1])\n",
            "input: torch.Size([12, 188, 1])\n",
            "x_hat: torch.Size([12, 12, 1])\n",
            "h: torch.Size([188, 12, 1])\n",
            "input: torch.Size([12, 188, 1])\n",
            "x_hat: torch.Size([12, 12, 1])\n",
            "h: torch.Size([188, 12, 1])\n",
            "input: torch.Size([12, 188, 1])\n",
            "x_hat: torch.Size([12, 12, 1])\n",
            "h: torch.Size([188, 12, 1])\n",
            "input: torch.Size([12, 188, 1])\n",
            "x_hat: torch.Size([12, 12, 1])\n",
            "h: torch.Size([188, 12, 1])\n",
            "input: torch.Size([12, 188, 1])\n",
            "x_hat: torch.Size([12, 12, 1])\n",
            "h: torch.Size([188, 12, 1])\n",
            "input: torch.Size([12, 188, 1])\n",
            "x_hat: torch.Size([12, 12, 1])\n",
            "h: torch.Size([188, 12, 1])\n",
            "input: torch.Size([12, 188, 1])\n",
            "x_hat: torch.Size([12, 12, 1])\n",
            "h: torch.Size([188, 12, 1])\n",
            "input: torch.Size([12, 188, 1])\n",
            "x_hat: torch.Size([12, 12, 1])\n",
            "h: torch.Size([188, 12, 1])\n",
            "input: torch.Size([12, 188, 1])\n",
            "x_hat: torch.Size([12, 12, 1])\n",
            "h: torch.Size([188, 12, 1])\n",
            "input: torch.Size([12, 188, 1])\n",
            "x_hat: torch.Size([12, 12, 1])\n",
            "h: torch.Size([188, 12, 1])\n",
            "input: torch.Size([12, 188, 1])\n",
            "x_hat: torch.Size([12, 12, 1])\n",
            "h: torch.Size([188, 12, 1])\n",
            "input: torch.Size([12, 188, 1])\n",
            "x_hat: torch.Size([12, 12, 1])\n",
            "h: torch.Size([188, 12, 1])\n",
            "input: torch.Size([12, 188, 1])\n",
            "x_hat: torch.Size([12, 12, 1])\n",
            "h: torch.Size([188, 12, 1])\n",
            "input: torch.Size([12, 188, 1])\n",
            "x_hat: torch.Size([12, 12, 1])\n",
            "h: torch.Size([188, 12, 1])\n",
            "input: torch.Size([12, 188, 1])\n",
            "x_hat: torch.Size([12, 12, 1])\n",
            "h: torch.Size([188, 12, 1])\n",
            "input: torch.Size([12, 188, 1])\n",
            "x_hat: torch.Size([12, 12, 1])\n",
            "h: torch.Size([188, 12, 1])\n",
            "input: torch.Size([12, 188, 1])\n",
            "x_hat: torch.Size([12, 12, 1])\n",
            "h: torch.Size([188, 12, 1])\n",
            "input: torch.Size([12, 188, 1])\n",
            "x_hat: torch.Size([12, 12, 1])\n",
            "h: torch.Size([188, 12, 1])\n",
            "input: torch.Size([12, 188, 1])\n",
            "x_hat: torch.Size([12, 12, 1])\n",
            "h: torch.Size([188, 12, 1])\n",
            "input: torch.Size([12, 188, 1])\n",
            "x_hat: torch.Size([12, 12, 1])\n",
            "h: torch.Size([188, 12, 1])\n",
            "input: torch.Size([12, 188, 1])\n",
            "x_hat: torch.Size([12, 12, 1])\n",
            "h: torch.Size([188, 12, 1])\n",
            "input: torch.Size([12, 188, 1])\n",
            "x_hat: torch.Size([12, 12, 1])\n",
            "h: torch.Size([188, 12, 1])\n",
            "input: torch.Size([12, 188, 1])\n",
            "x_hat: torch.Size([12, 12, 1])\n",
            "h: torch.Size([188, 12, 1])\n",
            "input: torch.Size([12, 188, 1])\n",
            "x_hat: torch.Size([12, 12, 1])\n",
            "h: torch.Size([188, 12, 1])\n",
            "input: torch.Size([12, 188, 1])\n",
            "x_hat: torch.Size([12, 12, 1])\n",
            "h: torch.Size([188, 12, 1])\n",
            "input: torch.Size([12, 188, 1])\n",
            "x_hat: torch.Size([12, 12, 1])\n",
            "h: torch.Size([188, 12, 1])\n",
            "input: torch.Size([12, 188, 1])\n",
            "x_hat: torch.Size([12, 12, 1])\n",
            "h: torch.Size([188, 12, 1])\n",
            "input: torch.Size([12, 188, 1])\n",
            "x_hat: torch.Size([12, 12, 1])\n",
            "h: torch.Size([188, 12, 1])\n",
            "input: torch.Size([12, 188, 1])\n",
            "x_hat: torch.Size([12, 12, 1])\n",
            "h: torch.Size([188, 12, 1])\n",
            "input: torch.Size([12, 188, 1])\n",
            "x_hat: torch.Size([12, 12, 1])\n",
            "h: torch.Size([188, 12, 1])\n",
            "input: torch.Size([12, 188, 1])\n",
            "x_hat: torch.Size([12, 12, 1])\n",
            "h: torch.Size([188, 12, 1])\n",
            "input: torch.Size([12, 188, 1])\n",
            "x_hat: torch.Size([12, 12, 1])\n",
            "h: torch.Size([188, 12, 1])\n",
            "input: torch.Size([12, 188, 1])\n",
            "x_hat: torch.Size([12, 12, 1])\n",
            "h: torch.Size([188, 12, 1])\n",
            "input: torch.Size([12, 188, 1])\n",
            "x_hat: torch.Size([12, 12, 1])\n",
            "h: torch.Size([188, 12, 1])\n",
            "input: torch.Size([12, 188, 1])\n",
            "x_hat: torch.Size([12, 12, 1])\n",
            "h: torch.Size([188, 12, 1])\n",
            "input: torch.Size([12, 188, 1])\n",
            "x_hat: torch.Size([12, 12, 1])\n",
            "h: torch.Size([188, 12, 1])\n",
            "input: torch.Size([12, 188, 1])\n",
            "x_hat: torch.Size([12, 12, 1])\n",
            "h: torch.Size([188, 12, 1])\n",
            "input: torch.Size([12, 188, 1])\n",
            "x_hat: torch.Size([12, 12, 1])\n",
            "h: torch.Size([188, 12, 1])\n",
            "input: torch.Size([12, 188, 1])\n",
            "x_hat: torch.Size([12, 12, 1])\n",
            "h: torch.Size([188, 12, 1])\n",
            "input: torch.Size([12, 188, 1])\n",
            "x_hat: torch.Size([12, 12, 1])\n",
            "h: torch.Size([188, 12, 1])\n",
            "input: torch.Size([12, 188, 1])\n",
            "x_hat: torch.Size([12, 12, 1])\n",
            "h: torch.Size([188, 12, 1])\n",
            "input: torch.Size([12, 188, 1])\n",
            "x_hat: torch.Size([12, 12, 1])\n",
            "h: torch.Size([188, 12, 1])\n",
            "input: torch.Size([12, 188, 1])\n",
            "x_hat: torch.Size([12, 12, 1])\n",
            "h: torch.Size([188, 12, 1])\n",
            "input: torch.Size([12, 188, 1])\n",
            "x_hat: torch.Size([12, 12, 1])\n",
            "h: torch.Size([188, 12, 1])\n",
            "input: torch.Size([12, 188, 1])\n",
            "x_hat: torch.Size([12, 12, 1])\n",
            "h: torch.Size([188, 12, 1])\n",
            "input: torch.Size([12, 188, 1])\n",
            "x_hat: torch.Size([12, 12, 1])\n",
            "h: torch.Size([188, 12, 1])\n",
            "input: torch.Size([12, 188, 1])\n",
            "x_hat: torch.Size([12, 12, 1])\n",
            "h: torch.Size([188, 12, 1])\n",
            "input: torch.Size([12, 188, 1])\n",
            "x_hat: torch.Size([12, 12, 1])\n",
            "h: torch.Size([188, 12, 1])\n",
            "input: torch.Size([12, 188, 1])\n",
            "x_hat: torch.Size([12, 12, 1])\n",
            "h: torch.Size([188, 12, 1])\n",
            "input: torch.Size([12, 188, 1])\n",
            "x_hat: torch.Size([12, 12, 1])\n",
            "h: torch.Size([188, 12, 1])\n",
            "input: torch.Size([12, 188, 1])\n",
            "x_hat: torch.Size([12, 12, 1])\n",
            "h: torch.Size([188, 12, 1])\n",
            "input: torch.Size([12, 188, 1])\n",
            "x_hat: torch.Size([12, 12, 1])\n",
            "h: torch.Size([188, 12, 1])\n",
            "input: torch.Size([12, 188, 1])\n",
            "x_hat: torch.Size([12, 12, 1])\n",
            "h: torch.Size([188, 12, 1])\n",
            "input: torch.Size([12, 188, 1])\n",
            "x_hat: torch.Size([12, 12, 1])\n",
            "h: torch.Size([188, 12, 1])\n",
            "input: torch.Size([12, 188, 1])\n",
            "x_hat: torch.Size([12, 12, 1])\n",
            "h: torch.Size([188, 12, 1])\n",
            "input: torch.Size([12, 188, 1])\n",
            "x_hat: torch.Size([12, 12, 1])\n",
            "h: torch.Size([188, 12, 1])\n",
            "input: torch.Size([12, 188, 1])\n",
            "x_hat: torch.Size([12, 12, 1])\n",
            "h: torch.Size([188, 12, 1])\n",
            "input: torch.Size([12, 188, 1])\n",
            "x_hat: torch.Size([12, 12, 1])\n",
            "h: torch.Size([188, 12, 1])\n",
            "input: torch.Size([12, 188, 1])\n",
            "x_hat: torch.Size([12, 12, 1])\n",
            "h: torch.Size([188, 12, 1])\n",
            "input: torch.Size([12, 188, 1])\n",
            "x_hat: torch.Size([12, 12, 1])\n",
            "h: torch.Size([188, 12, 1])\n",
            "input: torch.Size([12, 188, 1])\n",
            "x_hat: torch.Size([12, 12, 1])\n",
            "h: torch.Size([188, 12, 1])\n",
            "input: torch.Size([12, 188, 1])\n",
            "x_hat: torch.Size([12, 12, 1])\n",
            "h: torch.Size([188, 12, 1])\n",
            "input: torch.Size([12, 188, 1])\n",
            "x_hat: torch.Size([12, 12, 1])\n",
            "h: torch.Size([188, 12, 1])\n",
            "input: torch.Size([12, 188, 1])\n",
            "x_hat: torch.Size([12, 12, 1])\n",
            "h: torch.Size([188, 12, 1])\n",
            "input: torch.Size([12, 188, 1])\n",
            "x_hat: torch.Size([12, 12, 1])\n",
            "h: torch.Size([188, 12, 1])\n",
            "input: torch.Size([12, 188, 1])\n",
            "x_hat: torch.Size([12, 12, 1])\n",
            "h: torch.Size([188, 12, 1])\n",
            "input: torch.Size([12, 188, 1])\n",
            "x_hat: torch.Size([12, 12, 1])\n",
            "h: torch.Size([188, 12, 1])\n",
            "input: torch.Size([12, 188, 1])\n",
            "x_hat: torch.Size([12, 12, 1])\n",
            "h: torch.Size([188, 12, 1])\n",
            "input: torch.Size([12, 188, 1])\n",
            "x_hat: torch.Size([12, 12, 1])\n",
            "h: torch.Size([188, 12, 1])\n",
            "input: torch.Size([12, 188, 1])\n",
            "x_hat: torch.Size([12, 12, 1])\n",
            "h: torch.Size([188, 12, 1])\n",
            "input: torch.Size([12, 188, 1])\n",
            "x_hat: torch.Size([12, 12, 1])\n",
            "h: torch.Size([188, 12, 1])\n",
            "input: torch.Size([12, 188, 1])\n",
            "x_hat: torch.Size([12, 12, 1])\n",
            "h: torch.Size([188, 12, 1])\n",
            "input: torch.Size([12, 188, 1])\n",
            "x_hat: torch.Size([12, 12, 1])\n",
            "h: torch.Size([188, 12, 1])\n",
            "input: torch.Size([12, 188, 1])\n",
            "x_hat: torch.Size([12, 12, 1])\n",
            "h: torch.Size([188, 12, 1])\n",
            "input: torch.Size([12, 188, 1])\n",
            "x_hat: torch.Size([12, 12, 1])\n",
            "h: torch.Size([188, 12, 1])\n",
            "input: torch.Size([12, 188, 1])\n",
            "x_hat: torch.Size([12, 12, 1])\n",
            "h: torch.Size([188, 12, 1])\n",
            "input: torch.Size([12, 188, 1])\n",
            "x_hat: torch.Size([12, 12, 1])\n",
            "h: torch.Size([188, 12, 1])\n",
            "input: torch.Size([12, 188, 1])\n",
            "x_hat: torch.Size([12, 12, 1])\n",
            "h: torch.Size([188, 12, 1])\n",
            "input: torch.Size([12, 188, 1])\n",
            "x_hat: torch.Size([12, 12, 1])\n",
            "h: torch.Size([188, 12, 1])\n",
            "input: torch.Size([12, 188, 1])\n",
            "x_hat: torch.Size([12, 12, 1])\n",
            "h: torch.Size([188, 12, 1])\n",
            "input: torch.Size([12, 188, 1])\n",
            "x_hat: torch.Size([12, 12, 1])\n",
            "h: torch.Size([188, 12, 1])\n",
            "input: torch.Size([12, 188, 1])\n",
            "x_hat: torch.Size([12, 12, 1])\n",
            "h: torch.Size([188, 12, 1])\n",
            "input: torch.Size([12, 188, 1])\n",
            "x_hat: torch.Size([12, 12, 1])\n",
            "h: torch.Size([188, 12, 1])\n",
            "input: torch.Size([12, 188, 1])\n",
            "x_hat: torch.Size([12, 12, 1])\n",
            "h: torch.Size([188, 12, 1])\n",
            "input: torch.Size([12, 188, 1])\n",
            "x_hat: torch.Size([12, 12, 1])\n"
          ],
          "name": "stdout"
        },
        {
          "output_type": "stream",
          "text": [
            "\r  0%|          | 0/100 [00:04<?, ?it/s]"
          ],
          "name": "stderr"
        },
        {
          "output_type": "stream",
          "text": [
            "h: torch.Size([188, 12, 1])\n",
            "input: torch.Size([12, 188, 1])\n",
            "x_hat: torch.Size([12, 12, 1])\n",
            "h: torch.Size([188, 12, 1])\n",
            "input: torch.Size([12, 188, 1])\n",
            "x_hat: torch.Size([12, 12, 1])\n",
            "h: torch.Size([188, 12, 1])\n",
            "input: torch.Size([12, 188, 1])\n",
            "x_hat: torch.Size([12, 12, 1])\n",
            "h: torch.Size([188, 12, 1])\n",
            "input: torch.Size([12, 188, 1])\n",
            "x_hat: torch.Size([12, 12, 1])\n",
            "h: torch.Size([188, 12, 1])\n",
            "input: torch.Size([12, 188, 1])\n",
            "x_hat: torch.Size([12, 12, 1])\n",
            "h: torch.Size([188, 12, 1])\n",
            "input: torch.Size([12, 188, 1])\n",
            "x_hat: torch.Size([12, 12, 1])\n",
            "h: torch.Size([188, 12, 1])\n",
            "input: torch.Size([12, 188, 1])\n",
            "x_hat: torch.Size([12, 12, 1])\n",
            "h: torch.Size([188, 12, 1])\n",
            "input: torch.Size([12, 188, 1])\n",
            "x_hat: torch.Size([12, 12, 1])\n",
            "Epoch 0, loss 36.021\n"
          ],
          "name": "stdout"
        },
        {
          "output_type": "stream",
          "text": [
            "\n"
          ],
          "name": "stderr"
        },
        {
          "output_type": "error",
          "ename": "RuntimeError",
          "evalue": "ignored",
          "traceback": [
            "\u001b[0;31m---------------------------------------------------------------------------\u001b[0m",
            "\u001b[0;31mRuntimeError\u001b[0m                              Traceback (most recent call last)",
            "\u001b[0;32m<ipython-input-120-0846a48947a7>\u001b[0m in \u001b[0;36m<module>\u001b[0;34m()\u001b[0m\n\u001b[1;32m      1\u001b[0m \u001b[0mae\u001b[0m \u001b[0;34m=\u001b[0m \u001b[0mAutoencoder\u001b[0m\u001b[0;34m(\u001b[0m\u001b[0;34m)\u001b[0m\u001b[0;34m.\u001b[0m\u001b[0mto\u001b[0m\u001b[0;34m(\u001b[0m\u001b[0mdevice\u001b[0m\u001b[0;34m)\u001b[0m\u001b[0;34m\u001b[0m\u001b[0;34m\u001b[0m\u001b[0m\n\u001b[0;32m----> 2\u001b[0;31m \u001b[0mae\u001b[0m\u001b[0;34m,\u001b[0m \u001b[0mae_loss_traj\u001b[0m \u001b[0;34m=\u001b[0m \u001b[0mtrain_ae\u001b[0m\u001b[0;34m(\u001b[0m\u001b[0mae\u001b[0m\u001b[0;34m,\u001b[0m \u001b[0mdataloader\u001b[0m\u001b[0;34m,\u001b[0m \u001b[0mepochs\u001b[0m\u001b[0;34m=\u001b[0m\u001b[0;36m100\u001b[0m\u001b[0;34m)\u001b[0m\u001b[0;34m\u001b[0m\u001b[0;34m\u001b[0m\u001b[0m\n\u001b[0m",
            "\u001b[0;32m<ipython-input-88-09406c10d042>\u001b[0m in \u001b[0;36mtrain_ae\u001b[0;34m(model, dataloader, epochs)\u001b[0m\n\u001b[1;32m     33\u001b[0m         \u001b[0;32mif\u001b[0m \u001b[0mepoch\u001b[0m \u001b[0;34m%\u001b[0m \u001b[0;36m10\u001b[0m \u001b[0;34m==\u001b[0m \u001b[0;36m0\u001b[0m\u001b[0;34m:\u001b[0m\u001b[0;34m\u001b[0m\u001b[0;34m\u001b[0m\u001b[0m\n\u001b[1;32m     34\u001b[0m             \u001b[0mprint\u001b[0m\u001b[0;34m(\u001b[0m\u001b[0;34m'Epoch {}, loss {:.3f}'\u001b[0m\u001b[0;34m.\u001b[0m\u001b[0mformat\u001b[0m\u001b[0;34m(\u001b[0m\u001b[0mepoch\u001b[0m\u001b[0;34m,\u001b[0m \u001b[0mloss_epoch\u001b[0m\u001b[0;34m)\u001b[0m\u001b[0;34m)\u001b[0m\u001b[0;34m\u001b[0m\u001b[0;34m\u001b[0m\u001b[0m\n\u001b[0;32m---> 35\u001b[0;31m             \u001b[0mvisualize_recon\u001b[0m\u001b[0;34m(\u001b[0m\u001b[0mmodel\u001b[0m\u001b[0;34m,\u001b[0m \u001b[0mdataloader\u001b[0m\u001b[0;34m)\u001b[0m\u001b[0;34m\u001b[0m\u001b[0;34m\u001b[0m\u001b[0m\n\u001b[0m\u001b[1;32m     36\u001b[0m \u001b[0;34m\u001b[0m\u001b[0m\n\u001b[1;32m     37\u001b[0m     \u001b[0;32mreturn\u001b[0m \u001b[0mmodel\u001b[0m\u001b[0;34m,\u001b[0m \u001b[0mloss_traj\u001b[0m\u001b[0;34m\u001b[0m\u001b[0;34m\u001b[0m\u001b[0m\n",
            "\u001b[0;32m<ipython-input-87-357194522add>\u001b[0m in \u001b[0;36mvisualize_recon\u001b[0;34m(model, dataloader)\u001b[0m\n\u001b[1;32m      7\u001b[0m     \u001b[0mmodel\u001b[0m\u001b[0;34m.\u001b[0m\u001b[0meval\u001b[0m\u001b[0;34m(\u001b[0m\u001b[0;34m)\u001b[0m\u001b[0;34m\u001b[0m\u001b[0;34m\u001b[0m\u001b[0m\n\u001b[1;32m      8\u001b[0m     \u001b[0mimg\u001b[0m \u001b[0;34m=\u001b[0m \u001b[0mnext\u001b[0m\u001b[0;34m(\u001b[0m\u001b[0miter\u001b[0m\u001b[0;34m(\u001b[0m\u001b[0mdataloader\u001b[0m\u001b[0;34m)\u001b[0m\u001b[0;34m)\u001b[0m\u001b[0;34m[\u001b[0m\u001b[0;36m0\u001b[0m\u001b[0;34m]\u001b[0m\u001b[0;34m[\u001b[0m\u001b[0;34m:\u001b[0m\u001b[0;36m8\u001b[0m\u001b[0;34m]\u001b[0m\u001b[0;34m.\u001b[0m\u001b[0mto\u001b[0m\u001b[0;34m(\u001b[0m\u001b[0mdevice\u001b[0m\u001b[0;34m)\u001b[0m\u001b[0;34m\u001b[0m\u001b[0;34m\u001b[0m\u001b[0m\n\u001b[0;32m----> 9\u001b[0;31m     \u001b[0mout\u001b[0m \u001b[0;34m=\u001b[0m \u001b[0mmodel\u001b[0m\u001b[0;34m(\u001b[0m\u001b[0mimg\u001b[0m\u001b[0;34m)\u001b[0m\u001b[0;34m\u001b[0m\u001b[0;34m\u001b[0m\u001b[0m\n\u001b[0m\u001b[1;32m     10\u001b[0m \u001b[0;34m\u001b[0m\u001b[0m\n\u001b[1;32m     11\u001b[0m     \u001b[0mfig\u001b[0m\u001b[0;34m,\u001b[0m \u001b[0max\u001b[0m \u001b[0;34m=\u001b[0m \u001b[0mplt\u001b[0m\u001b[0;34m.\u001b[0m\u001b[0msubplots\u001b[0m\u001b[0;34m(\u001b[0m\u001b[0;36m1\u001b[0m\u001b[0;34m,\u001b[0m \u001b[0;36m1\u001b[0m\u001b[0;34m,\u001b[0m \u001b[0mfigsize\u001b[0m\u001b[0;34m=\u001b[0m\u001b[0;34m(\u001b[0m\u001b[0;36m15\u001b[0m\u001b[0;34m,\u001b[0m\u001b[0;36m10\u001b[0m\u001b[0;34m)\u001b[0m\u001b[0;34m)\u001b[0m\u001b[0;34m\u001b[0m\u001b[0;34m\u001b[0m\u001b[0m\n",
            "\u001b[0;32m/usr/local/lib/python3.6/dist-packages/torch/nn/modules/module.py\u001b[0m in \u001b[0;36m__call__\u001b[0;34m(self, *input, **kwargs)\u001b[0m\n\u001b[1;32m    548\u001b[0m             \u001b[0mresult\u001b[0m \u001b[0;34m=\u001b[0m \u001b[0mself\u001b[0m\u001b[0;34m.\u001b[0m\u001b[0m_slow_forward\u001b[0m\u001b[0;34m(\u001b[0m\u001b[0;34m*\u001b[0m\u001b[0minput\u001b[0m\u001b[0;34m,\u001b[0m \u001b[0;34m**\u001b[0m\u001b[0mkwargs\u001b[0m\u001b[0;34m)\u001b[0m\u001b[0;34m\u001b[0m\u001b[0;34m\u001b[0m\u001b[0m\n\u001b[1;32m    549\u001b[0m         \u001b[0;32melse\u001b[0m\u001b[0;34m:\u001b[0m\u001b[0;34m\u001b[0m\u001b[0;34m\u001b[0m\u001b[0m\n\u001b[0;32m--> 550\u001b[0;31m             \u001b[0mresult\u001b[0m \u001b[0;34m=\u001b[0m \u001b[0mself\u001b[0m\u001b[0;34m.\u001b[0m\u001b[0mforward\u001b[0m\u001b[0;34m(\u001b[0m\u001b[0;34m*\u001b[0m\u001b[0minput\u001b[0m\u001b[0;34m,\u001b[0m \u001b[0;34m**\u001b[0m\u001b[0mkwargs\u001b[0m\u001b[0;34m)\u001b[0m\u001b[0;34m\u001b[0m\u001b[0;34m\u001b[0m\u001b[0m\n\u001b[0m\u001b[1;32m    551\u001b[0m         \u001b[0;32mfor\u001b[0m \u001b[0mhook\u001b[0m \u001b[0;32min\u001b[0m \u001b[0mself\u001b[0m\u001b[0;34m.\u001b[0m\u001b[0m_forward_hooks\u001b[0m\u001b[0;34m.\u001b[0m\u001b[0mvalues\u001b[0m\u001b[0;34m(\u001b[0m\u001b[0;34m)\u001b[0m\u001b[0;34m:\u001b[0m\u001b[0;34m\u001b[0m\u001b[0;34m\u001b[0m\u001b[0m\n\u001b[1;32m    552\u001b[0m             \u001b[0mhook_result\u001b[0m \u001b[0;34m=\u001b[0m \u001b[0mhook\u001b[0m\u001b[0;34m(\u001b[0m\u001b[0mself\u001b[0m\u001b[0;34m,\u001b[0m \u001b[0minput\u001b[0m\u001b[0;34m,\u001b[0m \u001b[0mresult\u001b[0m\u001b[0;34m)\u001b[0m\u001b[0;34m\u001b[0m\u001b[0;34m\u001b[0m\u001b[0m\n",
            "\u001b[0;32m<ipython-input-85-bb66598b6e06>\u001b[0m in \u001b[0;36mforward\u001b[0;34m(self, x)\u001b[0m\n\u001b[1;32m     17\u001b[0m         '''\n\u001b[1;32m     18\u001b[0m \u001b[0;34m\u001b[0m\u001b[0m\n\u001b[0;32m---> 19\u001b[0;31m         \u001b[0mh\u001b[0m \u001b[0;34m=\u001b[0m \u001b[0mself\u001b[0m\u001b[0;34m.\u001b[0m\u001b[0mencoder\u001b[0m\u001b[0;34m(\u001b[0m\u001b[0mx\u001b[0m\u001b[0;34m)\u001b[0m\u001b[0;34m\u001b[0m\u001b[0;34m\u001b[0m\u001b[0m\n\u001b[0m\u001b[1;32m     20\u001b[0m         \u001b[0mx_\u001b[0m \u001b[0;34m=\u001b[0m \u001b[0mself\u001b[0m\u001b[0;34m.\u001b[0m\u001b[0mdecoder\u001b[0m\u001b[0;34m(\u001b[0m\u001b[0mh\u001b[0m\u001b[0;34m)\u001b[0m\u001b[0;34m\u001b[0m\u001b[0;34m\u001b[0m\u001b[0m\n\u001b[1;32m     21\u001b[0m \u001b[0;34m\u001b[0m\u001b[0m\n",
            "\u001b[0;32m/usr/local/lib/python3.6/dist-packages/torch/nn/modules/module.py\u001b[0m in \u001b[0;36m__call__\u001b[0;34m(self, *input, **kwargs)\u001b[0m\n\u001b[1;32m    548\u001b[0m             \u001b[0mresult\u001b[0m \u001b[0;34m=\u001b[0m \u001b[0mself\u001b[0m\u001b[0;34m.\u001b[0m\u001b[0m_slow_forward\u001b[0m\u001b[0;34m(\u001b[0m\u001b[0;34m*\u001b[0m\u001b[0minput\u001b[0m\u001b[0;34m,\u001b[0m \u001b[0;34m**\u001b[0m\u001b[0mkwargs\u001b[0m\u001b[0;34m)\u001b[0m\u001b[0;34m\u001b[0m\u001b[0;34m\u001b[0m\u001b[0m\n\u001b[1;32m    549\u001b[0m         \u001b[0;32melse\u001b[0m\u001b[0;34m:\u001b[0m\u001b[0;34m\u001b[0m\u001b[0;34m\u001b[0m\u001b[0m\n\u001b[0;32m--> 550\u001b[0;31m             \u001b[0mresult\u001b[0m \u001b[0;34m=\u001b[0m \u001b[0mself\u001b[0m\u001b[0;34m.\u001b[0m\u001b[0mforward\u001b[0m\u001b[0;34m(\u001b[0m\u001b[0;34m*\u001b[0m\u001b[0minput\u001b[0m\u001b[0;34m,\u001b[0m \u001b[0;34m**\u001b[0m\u001b[0mkwargs\u001b[0m\u001b[0;34m)\u001b[0m\u001b[0;34m\u001b[0m\u001b[0;34m\u001b[0m\u001b[0m\n\u001b[0m\u001b[1;32m    551\u001b[0m         \u001b[0;32mfor\u001b[0m \u001b[0mhook\u001b[0m \u001b[0;32min\u001b[0m \u001b[0mself\u001b[0m\u001b[0;34m.\u001b[0m\u001b[0m_forward_hooks\u001b[0m\u001b[0;34m.\u001b[0m\u001b[0mvalues\u001b[0m\u001b[0;34m(\u001b[0m\u001b[0;34m)\u001b[0m\u001b[0;34m:\u001b[0m\u001b[0;34m\u001b[0m\u001b[0;34m\u001b[0m\u001b[0m\n\u001b[1;32m    552\u001b[0m             \u001b[0mhook_result\u001b[0m \u001b[0;34m=\u001b[0m \u001b[0mhook\u001b[0m\u001b[0;34m(\u001b[0m\u001b[0mself\u001b[0m\u001b[0;34m,\u001b[0m \u001b[0minput\u001b[0m\u001b[0;34m,\u001b[0m \u001b[0mresult\u001b[0m\u001b[0;34m)\u001b[0m\u001b[0;34m\u001b[0m\u001b[0;34m\u001b[0m\u001b[0m\n",
            "\u001b[0;32m<ipython-input-107-e4e3898a860d>\u001b[0m in \u001b[0;36mforward\u001b[0;34m(self, x)\u001b[0m\n\u001b[1;32m     34\u001b[0m             \u001b[0mh\u001b[0m\u001b[0;34m:\u001b[0m \u001b[0mtorch\u001b[0m\u001b[0;34m.\u001b[0m\u001b[0mtensor\u001b[0m\u001b[0;34m\u001b[0m\u001b[0;34m\u001b[0m\u001b[0m\n\u001b[1;32m     35\u001b[0m         '''\n\u001b[0;32m---> 36\u001b[0;31m         \u001b[0mx\u001b[0m \u001b[0;34m=\u001b[0m \u001b[0mx\u001b[0m\u001b[0;34m.\u001b[0m\u001b[0mreshape\u001b[0m\u001b[0;34m(\u001b[0m\u001b[0;34m(\u001b[0m\u001b[0;36m188\u001b[0m\u001b[0;34m,\u001b[0m \u001b[0;36m1\u001b[0m\u001b[0;34m,\u001b[0m \u001b[0;34m-\u001b[0m\u001b[0;36m1\u001b[0m\u001b[0;34m)\u001b[0m\u001b[0;34m)\u001b[0m\u001b[0;34m\u001b[0m\u001b[0;34m\u001b[0m\u001b[0m\n\u001b[0m\u001b[1;32m     37\u001b[0m         \u001b[0mh\u001b[0m \u001b[0;34m=\u001b[0m \u001b[0mself\u001b[0m\u001b[0;34m.\u001b[0m\u001b[0mencoder\u001b[0m\u001b[0;34m(\u001b[0m\u001b[0mx\u001b[0m\u001b[0;34m)\u001b[0m\u001b[0;34m\u001b[0m\u001b[0;34m\u001b[0m\u001b[0m\n\u001b[1;32m     38\u001b[0m         \u001b[0mprint\u001b[0m\u001b[0;34m(\u001b[0m\u001b[0;34m\"h:\"\u001b[0m\u001b[0;34m,\u001b[0m\u001b[0mh\u001b[0m\u001b[0;34m.\u001b[0m\u001b[0mshape\u001b[0m\u001b[0;34m)\u001b[0m\u001b[0;34m\u001b[0m\u001b[0;34m\u001b[0m\u001b[0m\n",
            "\u001b[0;31mRuntimeError\u001b[0m: shape '[188, 1, -1]' is invalid for input of size 8"
          ]
        }
      ]
    },
    {
      "cell_type": "code",
      "metadata": {
        "id": "JHhJ7Nf5suPL",
        "colab_type": "code",
        "colab": {}
      },
      "source": [
        "i = 0\n",
        "for x in dataloader:\n",
        "  i += \n",
        "  print(i)\n",
        "  # x = x.view(x.size(0), -1)\n",
        "  # print(x.shape)"
      ],
      "execution_count": 0,
      "outputs": []
    },
    {
      "cell_type": "code",
      "metadata": {
        "id": "2L-WtDo8kv9P",
        "colab_type": "code",
        "colab": {}
      },
      "source": [
        ""
      ],
      "execution_count": 0,
      "outputs": []
    }
  ]
}