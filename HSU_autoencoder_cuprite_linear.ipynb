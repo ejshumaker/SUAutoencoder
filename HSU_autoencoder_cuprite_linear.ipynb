{
  "nbformat": 4,
  "nbformat_minor": 0,
  "metadata": {
    "colab": {
      "name": "HSU_autoencoder_cuprite_linear.ipynb",
      "provenance": [],
      "collapsed_sections": [],
      "authorship_tag": "ABX9TyOSiIxvXqsOmKH7+k18RaYd",
      "include_colab_link": true
    },
    "kernelspec": {
      "name": "python3",
      "display_name": "Python 3"
    },
    "accelerator": "GPU"
  },
  "cells": [
    {
      "cell_type": "markdown",
      "metadata": {
        "id": "view-in-github",
        "colab_type": "text"
      },
      "source": [
        "<a href=\"https://colab.research.google.com/github/ejshumaker/SUAutoencoder/blob/master/HSU_autoencoder_cuprite_linear.ipynb\" target=\"_parent\"><img src=\"https://colab.research.google.com/assets/colab-badge.svg\" alt=\"Open In Colab\"/></a>"
      ]
    },
    {
      "cell_type": "code",
      "metadata": {
        "id": "ey88yZjBNBnp",
        "colab_type": "code",
        "colab": {}
      },
      "source": [
        "import numpy as np\n",
        "import matplotlib.pyplot as plt\n",
        "import os\n",
        "import cv2\n",
        "from google.colab import output\n",
        "\n",
        "import torch\n",
        "import torch.nn as nn\n",
        "import torch.nn.functional as F\n",
        "import torch.optim as optim\n",
        "from torch.utils.data import DataLoader, Dataset\n",
        "\n",
        "import torchvision\n",
        "from torchvision import datasets, models, transforms\n",
        "\n",
        "from torchsummary import summary\n",
        "from tqdm import tqdm\n",
        "\n",
        "from scipy import io\n",
        "\n",
        "# Detect if we have a GPU available\n",
        "device = torch.device(\"cuda:0\" if torch.cuda.is_available() else \"cpu\")"
      ],
      "execution_count": 0,
      "outputs": []
    },
    {
      "cell_type": "code",
      "metadata": {
        "id": "JKjQ4QRVQitV",
        "colab_type": "code",
        "outputId": "2ef6257d-3237-463b-cff8-85bb9c2628d5",
        "colab": {
          "base_uri": "https://localhost:8080/",
          "height": 306
        }
      },
      "source": [
        "gpu_info = !nvidia-smi\n",
        "gpu_info = '\\n'.join(gpu_info)\n",
        "if gpu_info.find('failed') >= 0:\n",
        "  print('Select the Runtime → \"Change runtime type\" menu to enable a GPU accelerator, ')\n",
        "  print('and then re-execute this cell.')\n",
        "else:\n",
        "  print(gpu_info)"
      ],
      "execution_count": 4,
      "outputs": [
        {
          "output_type": "stream",
          "text": [
            "Fri May 15 17:45:50 2020       \n",
            "+-----------------------------------------------------------------------------+\n",
            "| NVIDIA-SMI 440.82       Driver Version: 418.67       CUDA Version: 10.1     |\n",
            "|-------------------------------+----------------------+----------------------+\n",
            "| GPU  Name        Persistence-M| Bus-Id        Disp.A | Volatile Uncorr. ECC |\n",
            "| Fan  Temp  Perf  Pwr:Usage/Cap|         Memory-Usage | GPU-Util  Compute M. |\n",
            "|===============================+======================+======================|\n",
            "|   0  Tesla T4            Off  | 00000000:00:04.0 Off |                    0 |\n",
            "| N/A   36C    P8     9W /  70W |     10MiB / 15079MiB |      0%      Default |\n",
            "+-------------------------------+----------------------+----------------------+\n",
            "                                                                               \n",
            "+-----------------------------------------------------------------------------+\n",
            "| Processes:                                                       GPU Memory |\n",
            "|  GPU       PID   Type   Process name                             Usage      |\n",
            "|=============================================================================|\n",
            "|  No running processes found                                                 |\n",
            "+-----------------------------------------------------------------------------+\n"
          ],
          "name": "stdout"
        }
      ]
    },
    {
      "cell_type": "code",
      "metadata": {
        "id": "7HFbAfgJ7Dmx",
        "colab_type": "code",
        "outputId": "520eedab-7fb1-4442-f1cf-792907e492bf",
        "colab": {
          "base_uri": "https://localhost:8080/",
          "height": 122
        }
      },
      "source": [
        "from google.colab import drive\n",
        "drive.mount('/content/gdrive')"
      ],
      "execution_count": 5,
      "outputs": [
        {
          "output_type": "stream",
          "text": [
            "Go to this URL in a browser: https://accounts.google.com/o/oauth2/auth?client_id=947318989803-6bn6qk8qdgf4n4g3pfee6491hc0brc4i.apps.googleusercontent.com&redirect_uri=urn%3aietf%3awg%3aoauth%3a2.0%3aoob&response_type=code&scope=email%20https%3a%2f%2fwww.googleapis.com%2fauth%2fdocs.test%20https%3a%2f%2fwww.googleapis.com%2fauth%2fdrive%20https%3a%2f%2fwww.googleapis.com%2fauth%2fdrive.photos.readonly%20https%3a%2f%2fwww.googleapis.com%2fauth%2fpeopleapi.readonly\n",
            "\n",
            "Enter your authorization code:\n",
            "··········\n",
            "Mounted at /content/gdrive\n"
          ],
          "name": "stdout"
        }
      ]
    },
    {
      "cell_type": "code",
      "metadata": {
        "id": "lvvOF5NUfIwb",
        "colab_type": "code",
        "colab": {}
      },
      "source": [
        "data_dict = io.loadmat(\"/content/gdrive/My Drive/Research/SpectralUnmixing/CupriteS1_R188.mat\")\n",
        "gt_dict = io.loadmat(\"/content/gdrive/My Drive/Research/SpectralUnmixing/groundTruth_Cuprite_nEnd12.mat\")"
      ],
      "execution_count": 0,
      "outputs": []
    },
    {
      "cell_type": "code",
      "metadata": {
        "id": "C1UeNUfK2Ioc",
        "colab_type": "code",
        "colab": {}
      },
      "source": [
        "# print(gt_dict['M'][:,0])\n",
        "# print(gt_dict['cood'][0])"
      ],
      "execution_count": 0,
      "outputs": []
    },
    {
      "cell_type": "markdown",
      "metadata": {
        "id": "Ece0GrhzogLc",
        "colab_type": "text"
      },
      "source": [
        "## Direct Dataloader"
      ]
    },
    {
      "cell_type": "code",
      "metadata": {
        "id": "JHQ4h9xKoi0o",
        "colab_type": "code",
        "colab": {}
      },
      "source": [
        "Y = data_dict['Y']\n",
        "dataset = []\n",
        "for i in range(Y.shape[0]):\n",
        "  d = Y[:,i]\n",
        "  d = d / np.amax(d)\n",
        "  t = torch.Tensor(d)\n",
        "  dataset.append(t)\n",
        "dataloader = DataLoader(dataset)"
      ],
      "execution_count": 0,
      "outputs": []
    },
    {
      "cell_type": "code",
      "metadata": {
        "id": "VLb-1waroxdX",
        "colab_type": "code",
        "outputId": "f31c773d-dfd6-48b7-ab65-fea721b16cd5",
        "colab": {
          "base_uri": "https://localhost:8080/",
          "height": 252
        }
      },
      "source": [
        "example = dataloader.__iter__().__next__()[0]\n",
        "plt.plot(example)\n",
        "plt.xticks([])\n",
        "plt.yticks([])\n",
        "plt.show()"
      ],
      "execution_count": 8,
      "outputs": [
        {
          "output_type": "display_data",
          "data": {
            "image/png": "[encoded data removed]",
            "text/plain": [
              "<Figure size 432x288 with 1 Axes>"
            ]
          },
          "metadata": {
            "tags": []
          }
        }
      ]
    },
    {
      "cell_type": "markdown",
      "metadata": {
        "id": "vDn1WxR9bWOh",
        "colab_type": "text"
      },
      "source": [
        "## Autoencoder"
      ]
    },
    {
      "cell_type": "code",
      "metadata": {
        "id": "si2ik6tZS7pa",
        "colab_type": "code",
        "colab": {}
      },
      "source": [
        "class Encoder(nn.Module):\n",
        "    def __init__(self, in_channels=1):\n",
        "        super(Encoder, self).__init__()\n",
        "\n",
        "        # TODO: change architecture\n",
        "        B = 188 # spectral bands\n",
        "        R = 12  # endmembers\n",
        "        self.encoder = nn.Sequential(\n",
        "            nn.Linear(B, 9*R),\n",
        "            nn.ReLU(),\n",
        "            nn.Linear(9*R, 6*R),\n",
        "            nn.ReLU(),\n",
        "            nn.Linear(6*R, 3*R),\n",
        "            nn.ReLU(),\n",
        "            nn.Linear(3*R, R),\n",
        "            nn.ReLU(),\n",
        "            nn.Softmax(dim=1)\n",
        "        )\n",
        "\n",
        "    def forward(self, x):\n",
        "        '''\n",
        "        Given a vector x, return the encoded latent representation h.\n",
        "\n",
        "        Args:\n",
        "            x: torch.tensor\n",
        "\n",
        "        Return: \n",
        "            h: torch.tensor\n",
        "        '''\n",
        "        x = x.unsqueeze(0).unsqueeze(1)\n",
        "        # print('encoder_input:', x.shape)  \n",
        "        h = self.encoder(x)\n",
        "        # print(\"h:\",h.shape)\n",
        "\n",
        "        return h"
      ],
      "execution_count": 0,
      "outputs": []
    },
    {
      "cell_type": "code",
      "metadata": {
        "id": "yR2Mhp1nwIws",
        "colab_type": "code",
        "colab": {}
      },
      "source": [
        "encoder = Encoder().to(device)\n",
        "# summary(encoder, [(188)])"
      ],
      "execution_count": 0,
      "outputs": []
    },
    {
      "cell_type": "code",
      "metadata": {
        "id": "s1cgpzZTwOtu",
        "colab_type": "code",
        "colab": {}
      },
      "source": [
        "class Decoder(nn.Module):\n",
        "    def __init__(self, out_channels=3, feat_dim=64):\n",
        "        super(Decoder, self).__init__()\n",
        "\n",
        "        B = 188 # spectral bands\n",
        "        R = 12  # endmembers\n",
        "\n",
        "        self.decoder = nn.Sequential(\n",
        "          nn.Linear(R,B),\n",
        "        )\n",
        "\n",
        "    def forward(self, h):\n",
        "        '''\n",
        "        Given encoded vector h, return decoded vector x_hat\n",
        "\n",
        "        Args:\n",
        "            h: torch.tensor\n",
        "\n",
        "        Return: \n",
        "            x_hat: torch.tensor\n",
        "        '''\n",
        "        # print('decoder input:', h.shape)\n",
        "        x_hat = self.decoder(h)\n",
        "        # access weights: https://discuss.pytorch.org/t/access-weights-of-a-specific-module-in-nn-sequential/3627\n",
        "        # print('x_hat:', x_hat.shape)\n",
        "        return x_hat"
      ],
      "execution_count": 0,
      "outputs": []
    },
    {
      "cell_type": "code",
      "metadata": {
        "id": "kY66jz5LwO63",
        "colab_type": "code",
        "colab": {}
      },
      "source": [
        "decoder = Decoder().to(device)\n",
        "# summary(decoder, [(12)])"
      ],
      "execution_count": 0,
      "outputs": []
    },
    {
      "cell_type": "code",
      "metadata": {
        "id": "6rMiLbL3wkA3",
        "colab_type": "code",
        "colab": {}
      },
      "source": [
        "class Autoencoder(nn.Module):\n",
        "    def __init__(self, in_channels=3, feat_dim=64):\n",
        "        super(Autoencoder, self).__init__()\n",
        "\n",
        "        self.encoder = Encoder(in_channels=1)\n",
        "        self.decoder = Decoder()\n",
        "\n",
        "    def forward(self, x):\n",
        "        '''\n",
        "        Compress and reconstruct the input image with encoder and decoder.\n",
        "\n",
        "        Args:\n",
        "            x: torch.tensor\n",
        "\n",
        "        Return: \n",
        "            x_: torch.tensor\n",
        "        '''\n",
        "\n",
        "        h = self.encoder(x.to(device))\n",
        "        x_hat = self.decoder(h)\n",
        "\n",
        "        return x_hat"
      ],
      "execution_count": 0,
      "outputs": []
    },
    {
      "cell_type": "code",
      "metadata": {
        "id": "gDcMwyjlwl0J",
        "colab_type": "code",
        "colab": {}
      },
      "source": [
        "ae = Autoencoder().to(device)\n",
        "# summary(ae, (3, 64, 64))"
      ],
      "execution_count": 0,
      "outputs": []
    },
    {
      "cell_type": "code",
      "metadata": {
        "id": "WD6M1CahwmXX",
        "colab_type": "code",
        "colab": {}
      },
      "source": [
        "def visualize_recon(model, dataloader):\n",
        "    '''\n",
        "    Helper function for visualizing reconstruction performance.\n",
        "\n",
        "    Randomly sample 8 images and plot the original/reconstructed images. \n",
        "    '''\n",
        "    model.eval()\n",
        "\n",
        "    inp_img = []\n",
        "    out_img = []\n",
        "    for i,img in enumerate(dataloader):\n",
        "      if (i < 5):\n",
        "        inp_img.append(img)\n",
        "        out_img.append(model(img).squeeze(0).squeeze(0).detach().cpu())\n",
        "\n",
        "    fig, ax = plt.subplots(2,5, figsize=(15,5))\n",
        "    ax[0,0].plot(inp_img[0][0])\n",
        "    ax[0,1].plot(inp_img[1][0])\n",
        "    ax[0,2].plot(inp_img[2][0])\n",
        "    ax[0,3].plot(inp_img[3][0])\n",
        "    ax[0,4].plot(inp_img[4][0])\n",
        "\n",
        "    ax[1,0].plot(out_img[0][0])\n",
        "    ax[1,1].plot(out_img[1][0])\n",
        "    ax[1,2].plot(out_img[2][0])\n",
        "    ax[1,3].plot(out_img[3][0])\n",
        "    ax[1,4].plot(out_img[4][0])\n",
        "\n",
        "    model.train()\n",
        "    plt.show()"
      ],
      "execution_count": 0,
      "outputs": []
    },
    {
      "cell_type": "code",
      "metadata": {
        "id": "_55II26swpsw",
        "colab_type": "code",
        "colab": {}
      },
      "source": [
        "def train_ae(model, dataloader, epochs=100):\n",
        "    '''\n",
        "    Train autoencoder model.\n",
        "\n",
        "    Args:\n",
        "        model: torch.nn.module.\n",
        "        dataloader: DataLoader. The unlabeled partition of the STL dataset.\n",
        "    '''\n",
        "\n",
        "    optimizer = optim.Adam(model.parameters(), lr=1e-3)\n",
        "    criterion = nn.MSELoss()\n",
        "    loss_traj = []\n",
        "\n",
        "    for epoch in tqdm(range(epochs)):\n",
        "\n",
        "        loss_epoch = 0\n",
        "        for x in dataloader:\n",
        "\n",
        "            inp = x[0].to(device)\n",
        "\n",
        "            out = model(inp)\n",
        "\n",
        "            loss = criterion(out, inp.unsqueeze(0).unsqueeze(1))\n",
        "            \n",
        "            optimizer.zero_grad()\n",
        "            loss.backward()\n",
        "            optimizer.step()\n",
        "\n",
        "            loss_epoch += loss.detach()\n",
        "\n",
        "        loss_traj.append(loss_epoch)\n",
        "        \n",
        "        if epoch % 10 == 0:\n",
        "            output.clear()\n",
        "            print('\\nEpoch {}, loss {:.3f}'.format(epoch, loss_epoch))\n",
        "            visualize_recon(model, dataloader)\n",
        "\n",
        "    return model, loss_traj, out, inp"
      ],
      "execution_count": 0,
      "outputs": []
    },
    {
      "cell_type": "code",
      "metadata": {
        "id": "jOzcpxr-wrhs",
        "colab_type": "code",
        "outputId": "9c3af847-2c32-48b0-c15d-8f88a38a8758",
        "colab": {
          "base_uri": "https://localhost:8080/",
          "height": 371
        }
      },
      "source": [
        "# Train the autoencoder for 100 epochs\n",
        "ae = Autoencoder().to(device)\n",
        "ae, ae_loss_traj, out, inp = train_ae(ae, dataloader, epochs=100)"
      ],
      "execution_count": 143,
      "outputs": [
        {
          "output_type": "stream",
          "text": [
            "\n",
            "Epoch 90, loss 20.419\n"
          ],
          "name": "stdout"
        },
        {
          "output_type": "display_data",
          "data": {
            "image/png": "[encoded data removed]",
            "text/plain": [
              "<Figure size 1080x360 with 10 Axes>"
            ]
          },
          "metadata": {
            "tags": [],
            "needs_background": "light"
          }
        },
        {
          "output_type": "stream",
          "text": [
            "100%|██████████| 100/100 [00:59<00:00,  1.69it/s]\n"
          ],
          "name": "stderr"
        }
      ]
    },
    {
      "cell_type": "code",
      "metadata": {
        "id": "ZyxWEFwz-Ey9",
        "colab_type": "code",
        "colab": {
          "base_uri": "https://localhost:8080/",
          "height": 340
        },
        "outputId": "cf256a9d-12d5-41de-fe2e-704009e8708e"
      },
      "source": [
        "B = 188\n",
        "R = 12\n",
        "for layer in ae.modules():\n",
        "  if isinstance(layer, nn.Linear):\n",
        "    print(layer)\n",
        "    if (layer.out_features == B):\n",
        "      M = layer.weight.detach().cpu().numpy()\n",
        "print(M.shape)\n",
        "print(M)"
      ],
      "execution_count": 123,
      "outputs": [
        {
          "output_type": "stream",
          "text": [
            "Linear(in_features=188, out_features=108, bias=True)\n",
            "Linear(in_features=108, out_features=72, bias=True)\n",
            "Linear(in_features=72, out_features=36, bias=True)\n",
            "Linear(in_features=36, out_features=12, bias=True)\n",
            "Linear(in_features=12, out_features=188, bias=True)\n",
            "(188, 12)\n",
            "[[-0.16190846  0.08014353 -0.0741105  ...  0.02402054 -0.21875538\n",
            "   0.22948663]\n",
            " [-0.11533909  0.05075086 -0.01567417 ... -0.30040038  0.23111027\n",
            "  -0.1508637 ]\n",
            " [ 0.08107707  0.19347838  0.07169899 ... -0.25776723 -0.03269307\n",
            "   0.22822177]\n",
            " ...\n",
            " [ 0.08284626 -0.01236961  0.12022433 ... -0.11121204  0.20258008\n",
            "   0.21956111]\n",
            " [ 0.01388905  0.15098022  0.22857186 ...  0.0600818  -0.04454871\n",
            "  -0.00438186]\n",
            " [-0.09103765 -0.03744379 -0.26496658 ...  0.24075654  0.22965482\n",
            "   0.12375191]]\n"
          ],
          "name": "stdout"
        }
      ]
    },
    {
      "cell_type": "code",
      "metadata": {
        "id": "Zpx782t2nw5Q",
        "colab_type": "code",
        "colab": {}
      },
      "source": [
        ""
      ],
      "execution_count": 0,
      "outputs": []
    }
  ]
}