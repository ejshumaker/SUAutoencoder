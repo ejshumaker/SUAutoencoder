{
  "nbformat": 4,
  "nbformat_minor": 0,
  "metadata": {
    "colab": {
      "name": "HSU_autoencoder_cuprite_linear.ipynb",
      "provenance": [],
      "collapsed_sections": [],
      "authorship_tag": "ABX9TyN9Bytu9vqEJn0YQmohx7+c",
      "include_colab_link": true
    },
    "kernelspec": {
      "name": "python3",
      "display_name": "Python 3"
    },
    "accelerator": "GPU"
  },
  "cells": [
    {
      "cell_type": "markdown",
      "metadata": {
        "id": "view-in-github",
        "colab_type": "text"
      },
      "source": [
        "<a href=\"https://colab.research.google.com/github/ejshumaker/SUAutoencoder/blob/master/HSU_autoencoder_cuprite_linear.ipynb\" target=\"_parent\"><img src=\"https://colab.research.google.com/assets/colab-badge.svg\" alt=\"Open In Colab\"/></a>"
      ]
    },
    {
      "cell_type": "code",
      "metadata": {
        "id": "ey88yZjBNBnp",
        "colab_type": "code",
        "colab": {}
      },
      "source": [
        "import numpy as np\n",
        "import matplotlib.pyplot as plt\n",
        "import os\n",
        "import cv2\n",
        "from google.colab import output\n",
        "\n",
        "import torch\n",
        "import torch.nn as nn\n",
        "import torch.nn.functional as F\n",
        "import torch.optim as optim\n",
        "from torch.utils.data import DataLoader, Dataset\n",
        "\n",
        "import torchvision\n",
        "from torchvision import datasets, models, transforms\n",
        "\n",
        "from torchsummary import summary\n",
        "from tqdm import tqdm\n",
        "\n",
        "from scipy import io\n",
        "\n",
        "# Detect if we have a GPU available\n",
        "device = torch.device(\"cuda:0\" if torch.cuda.is_available() else \"cpu\")"
      ],
      "execution_count": 0,
      "outputs": []
    },
    {
      "cell_type": "code",
      "metadata": {
        "id": "JKjQ4QRVQitV",
        "colab_type": "code",
        "outputId": "2ef6257d-3237-463b-cff8-85bb9c2628d5",
        "colab": {
          "base_uri": "https://localhost:8080/",
          "height": 306
        }
      },
      "source": [
        "gpu_info = !nvidia-smi\n",
        "gpu_info = '\\n'.join(gpu_info)\n",
        "if gpu_info.find('failed') >= 0:\n",
        "  print('Select the Runtime → \"Change runtime type\" menu to enable a GPU accelerator, ')\n",
        "  print('and then re-execute this cell.')\n",
        "else:\n",
        "  print(gpu_info)"
      ],
      "execution_count": 4,
      "outputs": [
        {
          "output_type": "stream",
          "text": [
            "Fri May 15 17:45:50 2020       \n",
            "+-----------------------------------------------------------------------------+\n",
            "| NVIDIA-SMI 440.82       Driver Version: 418.67       CUDA Version: 10.1     |\n",
            "|-------------------------------+----------------------+----------------------+\n",
            "| GPU  Name        Persistence-M| Bus-Id        Disp.A | Volatile Uncorr. ECC |\n",
            "| Fan  Temp  Perf  Pwr:Usage/Cap|         Memory-Usage | GPU-Util  Compute M. |\n",
            "|===============================+======================+======================|\n",
            "|   0  Tesla T4            Off  | 00000000:00:04.0 Off |                    0 |\n",
            "| N/A   36C    P8     9W /  70W |     10MiB / 15079MiB |      0%      Default |\n",
            "+-------------------------------+----------------------+----------------------+\n",
            "                                                                               \n",
            "+-----------------------------------------------------------------------------+\n",
            "| Processes:                                                       GPU Memory |\n",
            "|  GPU       PID   Type   Process name                             Usage      |\n",
            "|=============================================================================|\n",
            "|  No running processes found                                                 |\n",
            "+-----------------------------------------------------------------------------+\n"
          ],
          "name": "stdout"
        }
      ]
    },
    {
      "cell_type": "code",
      "metadata": {
        "id": "7HFbAfgJ7Dmx",
        "colab_type": "code",
        "outputId": "520eedab-7fb1-4442-f1cf-792907e492bf",
        "colab": {
          "base_uri": "https://localhost:8080/",
          "height": 122
        }
      },
      "source": [
        "from google.colab import drive\n",
        "drive.mount('/content/gdrive')"
      ],
      "execution_count": 5,
      "outputs": [
        {
          "output_type": "stream",
          "text": [
            "Go to this URL in a browser: https://accounts.google.com/o/oauth2/auth?client_id=947318989803-6bn6qk8qdgf4n4g3pfee6491hc0brc4i.apps.googleusercontent.com&redirect_uri=urn%3aietf%3awg%3aoauth%3a2.0%3aoob&response_type=code&scope=email%20https%3a%2f%2fwww.googleapis.com%2fauth%2fdocs.test%20https%3a%2f%2fwww.googleapis.com%2fauth%2fdrive%20https%3a%2f%2fwww.googleapis.com%2fauth%2fdrive.photos.readonly%20https%3a%2f%2fwww.googleapis.com%2fauth%2fpeopleapi.readonly\n",
            "\n",
            "Enter your authorization code:\n",
            "··········\n",
            "Mounted at /content/gdrive\n"
          ],
          "name": "stdout"
        }
      ]
    },
    {
      "cell_type": "code",
      "metadata": {
        "id": "lvvOF5NUfIwb",
        "colab_type": "code",
        "colab": {}
      },
      "source": [
        "data_dict = io.loadmat(\"/content/gdrive/My Drive/Research/SpectralUnmixing/CupriteS1_R188.mat\")\n",
        "gt_dict = io.loadmat(\"/content/gdrive/My Drive/Research/SpectralUnmixing/groundTruth_Cuprite_nEnd12.mat\")"
      ],
      "execution_count": 0,
      "outputs": []
    },
    {
      "cell_type": "markdown",
      "metadata": {
        "id": "Ece0GrhzogLc",
        "colab_type": "text"
      },
      "source": [
        "## Direct Dataloader"
      ]
    },
    {
      "cell_type": "code",
      "metadata": {
        "id": "JHQ4h9xKoi0o",
        "colab_type": "code",
        "colab": {}
      },
      "source": [
        "Y = data_dict['Y']\n",
        "dataset = []\n",
        "for i in range(Y.shape[0]):\n",
        "  d = Y[:,i]\n",
        "  d = d / np.amax(d)\n",
        "  t = torch.Tensor(d)\n",
        "  dataset.append(t)\n",
        "dataloader = DataLoader(dataset)"
      ],
      "execution_count": 0,
      "outputs": []
    },
    {
      "cell_type": "code",
      "metadata": {
        "id": "VLb-1waroxdX",
        "colab_type": "code",
        "outputId": "f31c773d-dfd6-48b7-ab65-fea721b16cd5",
        "colab": {
          "base_uri": "https://localhost:8080/",
          "height": 252
        }
      },
      "source": [
        "example = dataloader.__iter__().__next__()[0]\n",
        "plt.plot(example)\n",
        "plt.xticks([])\n",
        "plt.yticks([])\n",
        "plt.show()"
      ],
      "execution_count": 8,
      "outputs": [
        {
          "output_type": "display_data",
          "data": {
            "image/png": "[encoded data removed]",
            "text/plain": [
              "<Figure size 432x288 with 1 Axes>"
            ]
          },
          "metadata": {
            "tags": []
          }
        }
      ]
    },
    {
      "cell_type": "markdown",
      "metadata": {
        "id": "vDn1WxR9bWOh",
        "colab_type": "text"
      },
      "source": [
        "## Autoencoder"
      ]
    },
    {
      "cell_type": "code",
      "metadata": {
        "id": "si2ik6tZS7pa",
        "colab_type": "code",
        "colab": {}
      },
      "source": [
        "class Encoder(nn.Module):\n",
        "    def __init__(self, in_channels=1):\n",
        "        super(Encoder, self).__init__()\n",
        "\n",
        "        B = 188 # spectral bands\n",
        "        R = 12  # endmembers\n",
        "        self.encoder = nn.Sequential(\n",
        "            nn.Linear(B, 9*R),\n",
        "            nn.ReLU(),\n",
        "            nn.Linear(9*R, 6*R),\n",
        "            nn.ReLU(),\n",
        "            nn.Linear(6*R, 3*R),\n",
        "            nn.ReLU(),\n",
        "            nn.Linear(3*R, R),\n",
        "            # nn.ReLU(),\n",
        "            # nn.Softmax(dim=1)\n",
        "        )\n",
        "\n",
        "    def forward(self, x):\n",
        "        '''\n",
        "        Given a vector x, return the encoded latent representation h.\n",
        "\n",
        "        Args:\n",
        "            x: torch.tensor\n",
        "\n",
        "        Return: \n",
        "            h: torch.tensor\n",
        "        '''\n",
        "        x = x.unsqueeze(0).unsqueeze(1)\n",
        "        h = self.encoder(x)\n",
        "\n",
        "        return h"
      ],
      "execution_count": 0,
      "outputs": []
    },
    {
      "cell_type": "code",
      "metadata": {
        "id": "yR2Mhp1nwIws",
        "colab_type": "code",
        "colab": {}
      },
      "source": [
        "encoder = Encoder().to(device)\n",
        "# summary(encoder, [(188)])"
      ],
      "execution_count": 0,
      "outputs": []
    },
    {
      "cell_type": "code",
      "metadata": {
        "id": "s1cgpzZTwOtu",
        "colab_type": "code",
        "colab": {}
      },
      "source": [
        "class Decoder(nn.Module):\n",
        "    def __init__(self, out_channels=3, feat_dim=64):\n",
        "        super(Decoder, self).__init__()\n",
        "\n",
        "        B = 188 # spectral bands\n",
        "        R = 12  # endmembers\n",
        "\n",
        "        self.decoder = nn.Sequential(\n",
        "          nn.Linear(R,B),\n",
        "        )\n",
        "\n",
        "    def forward(self, h):\n",
        "        '''\n",
        "        Given encoded vector h, return decoded vector x_hat\n",
        "\n",
        "        Args:\n",
        "            h: torch.tensor\n",
        "\n",
        "        Return: \n",
        "            x_hat: torch.tensor\n",
        "        '''\n",
        "        return x_hat"
      ],
      "execution_count": 0,
      "outputs": []
    },
    {
      "cell_type": "code",
      "metadata": {
        "id": "kY66jz5LwO63",
        "colab_type": "code",
        "colab": {}
      },
      "source": [
        "decoder = Decoder().to(device)\n",
        "# summary(decoder, [(12)])"
      ],
      "execution_count": 0,
      "outputs": []
    },
    {
      "cell_type": "code",
      "metadata": {
        "id": "6rMiLbL3wkA3",
        "colab_type": "code",
        "colab": {}
      },
      "source": [
        "class Autoencoder(nn.Module):\n",
        "    def __init__(self, in_channels=3, feat_dim=64):\n",
        "        super(Autoencoder, self).__init__()\n",
        "\n",
        "        self.encoder = Encoder(in_channels=1)\n",
        "        self.decoder = Decoder()\n",
        "\n",
        "    def forward(self, x):\n",
        "        '''\n",
        "        Compress and reconstruct the input image with encoder and decoder.\n",
        "\n",
        "        Args:\n",
        "            x: torch.tensor\n",
        "\n",
        "        Return: \n",
        "            x_: torch.tensor\n",
        "        '''\n",
        "\n",
        "        h = self.encoder(x.to(device))\n",
        "        x_hat = self.decoder(h)\n",
        "\n",
        "        return x_hat, h"
      ],
      "execution_count": 0,
      "outputs": []
    },
    {
      "cell_type": "code",
      "metadata": {
        "id": "gDcMwyjlwl0J",
        "colab_type": "code",
        "colab": {}
      },
      "source": [
        "ae = Autoencoder().to(device)\n",
        "# summary(ae, (3, 64, 64))"
      ],
      "execution_count": 0,
      "outputs": []
    },
    {
      "cell_type": "code",
      "metadata": {
        "id": "WD6M1CahwmXX",
        "colab_type": "code",
        "colab": {}
      },
      "source": [
        "def visualize_recon(model, dataloader):\n",
        "    '''\n",
        "    Helper function for visualizing reconstruction performance.\n",
        "\n",
        "    Randomly sample 8 images and plot the original/reconstructed images. \n",
        "    '''\n",
        "    model.eval()\n",
        "\n",
        "    inp_img = []\n",
        "    out_img = []\n",
        "    for i,img in enumerate(dataloader):\n",
        "      if (i < 5):\n",
        "        inp_img.append(img)\n",
        "        out_img.append(model(img)[0].squeeze(0).squeeze(0).detach().cpu())\n",
        "\n",
        "    fig, ax = plt.subplots(2,5, figsize=(15,5))\n",
        "    ax[0,0].plot(inp_img[0][0])\n",
        "    ax[0,1].plot(inp_img[1][0])\n",
        "    ax[0,2].plot(inp_img[2][0])\n",
        "    ax[0,3].plot(inp_img[3][0])\n",
        "    ax[0,4].plot(inp_img[4][0])\n",
        "\n",
        "    ax[1,0].plot(out_img[0][0])\n",
        "    ax[1,1].plot(out_img[1][0])\n",
        "    ax[1,2].plot(out_img[2][0])\n",
        "    ax[1,3].plot(out_img[3][0])\n",
        "    ax[1,4].plot(out_img[4][0])\n",
        "\n",
        "    model.train()\n",
        "    plt.show()"
      ],
      "execution_count": 0,
      "outputs": []
    },
    {
      "cell_type": "code",
      "metadata": {
        "id": "_55II26swpsw",
        "colab_type": "code",
        "colab": {}
      },
      "source": [
        "def train_ae(model, dataloader, epochs=100):\n",
        "    '''\n",
        "    Train autoencoder model.\n",
        "\n",
        "    Args:\n",
        "        model: torch.nn.module.\n",
        "        dataloader: DataLoader. The unlabeled partition of the STL dataset.\n",
        "    '''\n",
        "\n",
        "    optimizer = optim.Adam(model.parameters(), lr=1e-3)\n",
        "    criterion = nn.MSELoss()\n",
        "    loss_traj = []\n",
        "\n",
        "    for epoch in tqdm(range(epochs)):\n",
        "\n",
        "        loss_epoch = 0\n",
        "        for x in dataloader:\n",
        "\n",
        "            inp = x[0].to(device)\n",
        "\n",
        "            out,h = model(inp)\n",
        "\n",
        "            loss = criterion(out, inp.unsqueeze(0).unsqueeze(1))\n",
        "            \n",
        "            optimizer.zero_grad()\n",
        "            loss.backward()\n",
        "            optimizer.step()\n",
        "\n",
        "            loss_epoch += loss.detach()\n",
        "\n",
        "        loss_traj.append(loss_epoch)\n",
        "        \n",
        "        if epoch % 10 == 0:\n",
        "            output.clear()\n",
        "            print('\\nEpoch {}, loss {:.3f}'.format(epoch, loss_epoch))\n",
        "            visualize_recon(model, dataloader)\n",
        "\n",
        "    return model, loss_traj, out, inp"
      ],
      "execution_count": 0,
      "outputs": []
    },
    {
      "cell_type": "code",
      "metadata": {
        "id": "jOzcpxr-wrhs",
        "colab_type": "code",
        "outputId": "c1756e29-76b0-46e0-d1d1-22b81e06cce8",
        "colab": {
          "base_uri": "https://localhost:8080/",
          "height": 541
        }
      },
      "source": [
        "# Train the autoencoder for 100 epochs\n",
        "ae = Autoencoder().to(device)\n",
        "model,_,_,_ = train_ae(ae, dataloader, epochs=100)"
      ],
      "execution_count": 203,
      "outputs": [
        {
          "output_type": "stream",
          "text": [
            "\n",
            "Epoch 90, loss 0.089\n"
          ],
          "name": "stdout"
        },
        {
          "output_type": "display_data",
          "data": {
            "image/png": "[encoded data removed]",
            "text/plain": [
              "<Figure size 1080x360 with 10 Axes>"
            ]
          },
          "metadata": {
            "tags": [],
            "needs_background": "light"
          }
        },
        {
          "output_type": "stream",
          "text": [
            "\n",
            " 91%|█████████ | 91/100 [00:53<00:06,  1.31it/s]\u001b[A\n",
            " 92%|█████████▏| 92/100 [00:54<00:05,  1.46it/s]\u001b[A\n",
            " 93%|█████████▎| 93/100 [00:54<00:04,  1.59it/s]\u001b[A\n",
            " 94%|█████████▍| 94/100 [00:55<00:03,  1.70it/s]\u001b[A\n",
            " 95%|█████████▌| 95/100 [00:55<00:02,  1.79it/s]\u001b[A\n",
            " 96%|█████████▌| 96/100 [00:56<00:02,  1.86it/s]\u001b[A\n",
            " 97%|█████████▋| 97/100 [00:56<00:01,  1.90it/s]\u001b[A\n",
            " 98%|█████████▊| 98/100 [00:57<00:01,  1.95it/s]\u001b[A\n",
            " 99%|█████████▉| 99/100 [00:57<00:00,  1.94it/s]\u001b[A\n",
            "100%|██████████| 100/100 [00:58<00:00,  1.72it/s]\n"
          ],
          "name": "stderr"
        }
      ]
    },
    {
      "cell_type": "markdown",
      "metadata": {
        "id": "gZjvHio45n4u",
        "colab_type": "text"
      },
      "source": [
        "### Get M and S from LMM: X = MS"
      ]
    },
    {
      "cell_type": "code",
      "metadata": {
        "id": "ZyxWEFwz-Ey9",
        "colab_type": "code",
        "colab": {}
      },
      "source": [
        "noise = True\n",
        "B = 188\n",
        "R = 12\n",
        "# Get decoder output weights, M\n",
        "for layer in model.modules():\n",
        "  if isinstance(layer, nn.Softmax):\n",
        "    print('Softmax:', layer)\n",
        "  if isinstance(layer, nn.Linear):\n",
        "    if (layer.out_features == B):\n",
        "      M = layer.weight.detach().cpu().numpy()"
      ],
      "execution_count": 0,
      "outputs": []
    },
    {
      "cell_type": "code",
      "metadata": {
        "id": "uPST4eX359px",
        "colab_type": "code",
        "colab": {}
      },
      "source": [
        "# Run model on test image 170\n",
        "model.eval()\n",
        "for i,img in enumerate(dataloader):\n",
        "  if i == 170:\n",
        "    inp = img[0]\n",
        "x_hat, h = model(inp)\n",
        "# Set hidden activations h_i to S\n",
        "S = h.squeeze(0).detach().cpu().numpy()[0]"
      ],
      "execution_count": 0,
      "outputs": []
    },
    {
      "cell_type": "code",
      "metadata": {
        "id": "N4u2BkDB6Y5v",
        "colab_type": "code",
        "colab": {}
      },
      "source": [
        "if noise:\n",
        "  X = (M @ S) + np.random.normal(0.2,0.01,M.shape[0]) # with noise\n",
        "else:\n",
        "  X = (M @ S) # without noise"
      ],
      "execution_count": 0,
      "outputs": []
    },
    {
      "cell_type": "code",
      "metadata": {
        "id": "9zVi2tUfvw3h",
        "colab_type": "code",
        "colab": {
          "base_uri": "https://localhost:8080/",
          "height": 281
        },
        "outputId": "65e57872-1ae9-40a7-fa37-a7b7f0b7135c"
      },
      "source": [
        "x = x_hat.squeeze(0).squeeze(0).detach().cpu().numpy()\n",
        "plt.plot(x, label='Autoencoder $\\hat{X}$')\n",
        "plt.plot(X, label='LMM $\\hat{X}$')\n",
        "plt.plot(inp, label = 'X')\n",
        "plt.legend()\n",
        "plt.title('Autoencoder')\n",
        "plt.show()"
      ],
      "execution_count": 343,
      "outputs": [
        {
          "output_type": "display_data",
          "data": {
            "image/png": "[encoded data removed]",
            "text/plain": [
              "<Figure size 432x288 with 1 Axes>"
            ]
          },
          "metadata": {
            "tags": [],
            "needs_background": "light"
          }
        }
      ]
    },
    {
      "cell_type": "code",
      "metadata": {
        "id": "rplEtHjN8omQ",
        "colab_type": "code",
        "colab": {}
      },
      "source": [
        "# Run model on all pixels\n",
        "model.eval()\n",
        "length = 0\n",
        "S_avg = np.zeros(R)\n",
        "for i, img in enumerate(dataloader):\n",
        "    inp = img[0]\n",
        "    _, h = model(inp)\n",
        "    S_avg += h.squeeze(0).detach().cpu().numpy()[0]\n",
        "    length = i + 1\n",
        "S_avg = S_avg / length"
      ],
      "execution_count": 0,
      "outputs": []
    },
    {
      "cell_type": "code",
      "metadata": {
        "id": "c5ReL8chDmIN",
        "colab_type": "code",
        "colab": {}
      },
      "source": [
        "gt = gt_dict['M']\n",
        "gt_abundances = np.sum(gt, axis=0)\n",
        "total = np.sum(gt_abundances)\n",
        "gt_abundances = gt_abundances / total"
      ],
      "execution_count": 0,
      "outputs": []
    },
    {
      "cell_type": "code",
      "metadata": {
        "id": "tGdBtf2nDp46",
        "colab_type": "code",
        "colab": {
          "base_uri": "https://localhost:8080/",
          "height": 204
        },
        "outputId": "04d78af7-14f9-4766-e649-04e79c1497c6"
      },
      "source": [
        "print('Abundances:\\n', S)\n",
        "print('============================================================================================')\n",
        "print('Abundances Avg:\\n', S_avg)\n",
        "print('============================================================================================')\n",
        "print('Ground Truth Abundances:\\n',gt_abundances)"
      ],
      "execution_count": 351,
      "outputs": [
        {
          "output_type": "stream",
          "text": [
            "Abundances:\n",
            " [-0.0990359   0.4592273  -0.28225076  0.21033016  0.1973326  -0.19621414\n",
            "  0.29854077 -0.34390396  0.46742108 -0.34736082 -0.14104617  0.37848032]\n",
            "============================================================================================\n",
            "Abundances Avg:\n",
            " [ 0.02285733  0.3533031  -0.16279823  0.24880881  0.14896484 -0.11179987\n",
            "  0.16336717 -0.28375451  0.37092252 -0.23230046 -0.02030415  0.28101561]\n",
            "============================================================================================\n",
            "Ground Truth Abundances:\n",
            " [0.10510476 0.11231181 0.08147431 0.09446176 0.06403207 0.0794122\n",
            " 0.09723979 0.08763809 0.05719462 0.09152212 0.04369934 0.08590915]\n"
          ],
          "name": "stdout"
        }
      ]
    }
  ]
}